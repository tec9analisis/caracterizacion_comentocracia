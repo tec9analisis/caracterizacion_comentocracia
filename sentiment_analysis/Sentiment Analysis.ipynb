{
 "cells": [
  {
   "cell_type": "markdown",
   "metadata": {},
   "source": [
    "# Tweet sentiment analysis"
   ]
  },
  {
   "cell_type": "markdown",
   "metadata": {},
   "source": [
    "## Posible approaches"
   ]
  },
  {
   "cell_type": "markdown",
   "metadata": {},
   "source": [
    "- Translate the tweets to english (using google translate or other alternative) and then perform regular sentiment analysis in English.\n",
    "- Create our own corpus (a common corpus for sentiment analysis is the imdb dataset)\n",
    "- Use an existing corpus in Spanish."
   ]
  },
  {
   "cell_type": "markdown",
   "metadata": {},
   "source": [
    "## TASS Dataset"
   ]
  },
  {
   "cell_type": "markdown",
   "metadata": {},
   "source": [
    "We will use an existing labeled dataset to predict the sentiment of the new tweets"
   ]
  },
  {
   "cell_type": "markdown",
   "metadata": {},
   "source": [
    "I found a very, very good dataset provided by the Spanish Society for Natural Language Processing [SEPLN]. Every year they organize the TASS, a workshop focused on sentiment analysis in Spanish. They provide their [corpus](http://www.sngularmeaning.team/TASS2015/tass2015.php#corpus) for free for academic purposes."
   ]
  },
  {
   "cell_type": "markdown",
   "metadata": {},
   "source": [
    "The TASS Dataset includes many files that sum about 50000 tweets from a variety of topics (general, tv, politics, sports), and include the polarity as an ordinal variable. Polarity values include: N (negative), NEU(Neutral), P (Positive), NONE (without sentiment)"
   ]
  },
  {
   "cell_type": "code",
   "execution_count": 448,
   "metadata": {
    "collapsed": false,
    "jupyter": {
     "outputs_hidden": false
    }
   },
   "outputs": [
    {
     "name": "stdout",
     "output_type": "stream",
     "text": [
      "<?xml version=\"1.0\" encoding=\"UTF-8\"?>\n",
      "<tweets>\n",
      "\t<tweet>\n",
      "\t\t<tweetid>774677024673714176</tweetid>\n",
      "\t\t<user>288849596</user>\n",
      "\t\t<content>Hoy le dÃ­ asesorÃ­a a 1 dude q qerÃ­a recuperar a su ex. Cada q habla d ella se le ilumina la cara. Voy a hacer lo imposible pa q la logre.</content>\n",
      "\t\t<date>Sat Sep 10 18:32:50 +0000 2016</date>\n",
      "\t\t<lang>es</lang>\n",
      "\t\t<sentiment>\n",
      "\t\t\t<polarity><value>P</value></polarity>\n",
      "\t\t</sentiment>\n",
      "\t</tweet>\n",
      "\t<tweet>\n",
      "\t\t<tweetid>773710630956130304</tweetid>\n",
      "\t\t<user>610531063</user>\n",
      "\t\t<content>Â¡RÃ¡pido a quÃ© comprar el iPhone 7 antes que saqu...! Â¿CÃ³mo, ya lo estÃ¡n presentando el 8? Bueno, ese mero a que com... Â¿Ya van en el 9?</content>\n",
      "\t\t<date>Thu Sep 08 02:32:43 +0000 2016</date>\n",
      "\t\t<lang>es</lang>\n",
      "\t\t<sentiment>\n",
      "\t\t\t<polarity><value>NEU</value></polarity>\n",
      "\t\t</sentiment>\n",
      "\t</tweet>\n",
      "\t<tweet>\n",
      "\t\t<tweetid>764625478317596672</tweetid>\n",
      "\t\t<user>188013030</user>\n",
      "\t\t<content>SÃ³lo y triste bajo el sol en la playa busco amor debe haber un lugar para mÃ­ Gentes vienen, gentes van olas, agua, luz, y sal,,, la la la</content>\n",
      "\t\t<date>Sun Aug 14 00:51:34 +0000 2016</date>\n",
      "\t\t<lang>es</lang>\n",
      "\t\t<sentiment>\n",
      "\t\t\t<polarity><value>NEU</value></polarity>\n"
     ]
    }
   ],
   "source": [
    "!head -n 30 TASS2019_country_MX_dev.xml"
   ]
  },
  {
   "cell_type": "markdown",
   "metadata": {},
   "source": [
    "So we see that tweets come as xml files. TASS files come in different xml schemas (different TASS seminars seem to have used slightly different files), so they need to be parsed each one separately."
   ]
  },
  {
   "cell_type": "code",
   "execution_count": 425,
   "metadata": {},
   "outputs": [],
   "source": [
    "import pandas as pd\n",
    "pd.set_option('max_colwidth',1000)"
   ]
  },
  {
   "cell_type": "markdown",
   "metadata": {},
   "source": [
    "Once we have all the xml files parsed we concatenate them"
   ]
  },
  {
   "cell_type": "code",
   "execution_count": 426,
   "metadata": {
    "collapsed": false,
    "jupyter": {
     "outputs_hidden": false
    }
   },
   "outputs": [
    {
     "name": "stdout",
     "output_type": "stream",
     "text": [
      "Index(['tweetid', 'user', 'content', 'date', 'lang', 'value'], dtype='object')\n"
     ]
    },
    {
     "data": {
      "text/html": [
       "<div>\n",
       "<style scoped>\n",
       "    .dataframe tbody tr th:only-of-type {\n",
       "        vertical-align: middle;\n",
       "    }\n",
       "\n",
       "    .dataframe tbody tr th {\n",
       "        vertical-align: top;\n",
       "    }\n",
       "\n",
       "    .dataframe thead th {\n",
       "        text-align: right;\n",
       "    }\n",
       "</style>\n",
       "<table border=\"1\" class=\"dataframe\">\n",
       "  <thead>\n",
       "    <tr style=\"text-align: right;\">\n",
       "      <th></th>\n",
       "      <th>content</th>\n",
       "      <th>value</th>\n",
       "    </tr>\n",
       "  </thead>\n",
       "  <tbody>\n",
       "    <tr>\n",
       "      <th>0</th>\n",
       "      <td>— ¿Nivel de inglés? — Alto. — Traduzca juguete. — Toy. — Úselo en una oración. — Toy triste. — Awww, vengache pa' acá. —</td>\n",
       "      <td>NEU</td>\n",
       "    </tr>\n",
       "    <tr>\n",
       "      <th>1</th>\n",
       "      <td>Si soy de área 4 y con suerte pase mate IV y mate V ¿por que me ponen al profe qlero que es mega difícil pasar con el, en mi último año?</td>\n",
       "      <td>N</td>\n",
       "    </tr>\n",
       "    <tr>\n",
       "      <th>2</th>\n",
       "      <td>Sabían que su after fav Teatro G. fue construido para mi y un día de estos (hoy) les voy a dar el placer de que me vean ahí metido !!</td>\n",
       "      <td>P</td>\n",
       "    </tr>\n",
       "    <tr>\n",
       "      <th>3</th>\n",
       "      <td>Y hoy por primera vez me salí con el permiso de mi mujer pero no es eso el detalle, si no saber q estarán a mi lado y q llegaré a casa</td>\n",
       "      <td>P</td>\n",
       "    </tr>\n",
       "    <tr>\n",
       "      <th>4</th>\n",
       "      <td>¿Para qué hacen coraje con Ambriz?, al final no lo van a correr y saldrá con su típica frase: \"La culpa es mía, no de los jugadores\"</td>\n",
       "      <td>N</td>\n",
       "    </tr>\n",
       "    <tr>\n",
       "      <th>...</th>\n",
       "      <td>...</td>\n",
       "      <td>...</td>\n",
       "    </tr>\n",
       "    <tr>\n",
       "      <th>481</th>\n",
       "      <td>@sonmifelicidad_ yo el programa!! sino lo veo en vivo se me va a complicar para verlo, acá en Uruguay la pagina de Telefe no sirve</td>\n",
       "      <td>N</td>\n",
       "    </tr>\n",
       "    <tr>\n",
       "      <th>482</th>\n",
       "      <td>@sonmifelicidad_ igual este Lunes seguro vea La Doña, porque de ultima el domingo empieza, por lo menos para verla, porque ya la extraño</td>\n",
       "      <td>NEU</td>\n",
       "    </tr>\n",
       "    <tr>\n",
       "      <th>483</th>\n",
       "      <td>@Guille2SantosTM @urbandoficial Al contrario gracias a ustedes por compartir Saludos!</td>\n",
       "      <td>P</td>\n",
       "    </tr>\n",
       "    <tr>\n",
       "      <th>484</th>\n",
       "      <td>@juliapresa0 todas julinator te quiero y extraño</td>\n",
       "      <td>P</td>\n",
       "    </tr>\n",
       "    <tr>\n",
       "      <th>485</th>\n",
       "      <td>Quería ir a el teatro a ver a imaginé . pero tuve que ensayar el 24 de sube a defender esta hermosa camiseta Mg 2017</td>\n",
       "      <td>NEU</td>\n",
       "    </tr>\n",
       "  </tbody>\n",
       "</table>\n",
       "<p>6769 rows × 2 columns</p>\n",
       "</div>"
      ],
      "text/plain": [
       "                                                                                                                                      content  \\\n",
       "0                    — ¿Nivel de inglés? — Alto. — Traduzca juguete. — Toy. — Úselo en una oración. — Toy triste. — Awww, vengache pa' acá. —   \n",
       "1    Si soy de área 4 y con suerte pase mate IV y mate V ¿por que me ponen al profe qlero que es mega difícil pasar con el, en mi último año?   \n",
       "2       Sabían que su after fav Teatro G. fue construido para mi y un día de estos (hoy) les voy a dar el placer de que me vean ahí metido !!   \n",
       "3      Y hoy por primera vez me salí con el permiso de mi mujer pero no es eso el detalle, si no saber q estarán a mi lado y q llegaré a casa   \n",
       "4        ¿Para qué hacen coraje con Ambriz?, al final no lo van a correr y saldrá con su típica frase: \"La culpa es mía, no de los jugadores\"   \n",
       "..                                                                                                                                        ...   \n",
       "481        @sonmifelicidad_ yo el programa!! sino lo veo en vivo se me va a complicar para verlo, acá en Uruguay la pagina de Telefe no sirve   \n",
       "482  @sonmifelicidad_ igual este Lunes seguro vea La Doña, porque de ultima el domingo empieza, por lo menos para verla, porque ya la extraño   \n",
       "483                                                     @Guille2SantosTM @urbandoficial Al contrario gracias a ustedes por compartir Saludos!   \n",
       "484                                                                                          @juliapresa0 todas julinator te quiero y extraño   \n",
       "485                      Quería ir a el teatro a ver a imaginé . pero tuve que ensayar el 24 de sube a defender esta hermosa camiseta Mg 2017   \n",
       "\n",
       "    value  \n",
       "0     NEU  \n",
       "1       N  \n",
       "2       P  \n",
       "3       P  \n",
       "4       N  \n",
       "..    ...  \n",
       "481     N  \n",
       "482   NEU  \n",
       "483     P  \n",
       "484     P  \n",
       "485   NEU  \n",
       "\n",
       "[6769 rows x 2 columns]"
      ]
     },
     "execution_count": 426,
     "metadata": {},
     "output_type": "execute_result"
    }
   ],
   "source": [
    "types = ['_train.csv','_dev.csv']\n",
    "countries = ['MX','ES','CR','PE','UY']\n",
    "\n",
    "c = [pd.read_csv(\"TASS2019_country_\"+ country + datatype, engine='python') for country in countries for datatype in types]\n",
    "tweets_corpus = pd.concat(c)\n",
    "print(tweets_corpus.columns)\n",
    "tweets_corpus = tweets_corpus[[\"content\",\"value\"]]\n",
    "tweets_corpus"
   ]
  },
  {
   "cell_type": "code",
   "execution_count": 427,
   "metadata": {},
   "outputs": [
    {
     "data": {
      "text/plain": [
       "value\n",
       "N       2585\n",
       "NEU      969\n",
       "NONE    1263\n",
       "P       1952\n",
       "dtype: int64"
      ]
     },
     "execution_count": 427,
     "metadata": {},
     "output_type": "execute_result"
    }
   ],
   "source": [
    "tweets_corpus.groupby(['value']).size()"
   ]
  },
  {
   "cell_type": "markdown",
   "metadata": {},
   "source": [
    "## Label preprocessing"
   ]
  },
  {
   "cell_type": "markdown",
   "metadata": {},
   "source": [
    "We will binarize the sentiment. So instead of having a 5-class classification problem we turn it into a binary one. Ideally we would perform Ordinal Classification, but scikit learn seems to be more focused on categorical/binary classification."
   ]
  },
  {
   "cell_type": "code",
   "execution_count": 454,
   "metadata": {
    "collapsed": false,
    "jupyter": {
     "outputs_hidden": false
    }
   },
   "outputs": [
    {
     "data": {
      "text/plain": [
       "0    0.56976\n",
       "1    0.43024\n",
       "Name: polarity_bin, dtype: float64"
      ]
     },
     "execution_count": 454,
     "metadata": {},
     "output_type": "execute_result"
    }
   ],
   "source": [
    "tweets_corpus = tweets_corpus[tweets_corpus.value.isin(['P', 'N'])]\n",
    "\n",
    "tweets_corpus.loc[:,'polarity_bin'] = 0\n",
    "tweets_corpus.polarity_bin.loc[tweets_corpus.value == 'P'] = 1\n",
    "tweets_corpus.polarity_bin.value_counts(normalize=True)"
   ]
  },
  {
   "cell_type": "markdown",
   "metadata": {},
   "source": [
    "Since the problem is now a binary classification one, the score will be the Area Under the Curve (roc_auc)."
   ]
  },
  {
   "cell_type": "markdown",
   "metadata": {},
   "source": [
    "At this point we would try multiple models and evaluate their performance. I have done this using Scikit Learn Laboratory (Skull). After trying multiple models (a very lenghty task), Linear Support Vector Classifier turned to be the top performant model."
   ]
  },
  {
   "cell_type": "markdown",
   "metadata": {},
   "source": [
    "Once we have the model we want to use, we do a GridSearch to find the optimal hyperparameters."
   ]
  },
  {
   "cell_type": "code",
   "execution_count": 456,
   "metadata": {},
   "outputs": [
    {
     "data": {
      "text/plain": [
       "value\n",
       "N    2585\n",
       "P    1952\n",
       "dtype: int64"
      ]
     },
     "execution_count": 456,
     "metadata": {},
     "output_type": "execute_result"
    }
   ],
   "source": [
    "tweets_corpus.groupby(['value']).size()"
   ]
  },
  {
   "cell_type": "markdown",
   "metadata": {},
   "source": [
    "## Tokenizing & Stemming"
   ]
  },
  {
   "cell_type": "code",
   "execution_count": 433,
   "metadata": {},
   "outputs": [
    {
     "name": "stderr",
     "output_type": "stream",
     "text": [
      "[nltk_data] Downloading package stopwords to\n",
      "[nltk_data]     C:\\Users\\User\\AppData\\Roaming\\nltk_data...\n",
      "[nltk_data]   Package stopwords is already up-to-date!\n"
     ]
    }
   ],
   "source": [
    "#download spanish stopwords\n",
    "import nltk\n",
    "nltk.download(\"stopwords\")\n",
    "\n",
    "from nltk.corpus import stopwords\n",
    "spanish_stopwords = stopwords.words('spanish')"
   ]
  },
  {
   "cell_type": "code",
   "execution_count": 449,
   "metadata": {
    "collapsed": false,
    "jupyter": {
     "outputs_hidden": false
    }
   },
   "outputs": [
    {
     "name": "stdout",
     "output_type": "stream",
     "text": [
      "['!', '\"', '#', '$', '%', '&', \"'\", '(', ')', '*', '+', ',', '-', '.', '/', ':', ';', '<', '=', '>', '?', '@', '[', '\\\\', ']', '^', '_', '`', '{', '|', '}', '~', '¿', '¡', '0', '1', '2', '3', '4', '5', '6', '7', '8', '9']\n"
     ]
    }
   ],
   "source": [
    "from string import punctuation\n",
    "non_words = list(punctuation)\n",
    "\n",
    "#we add spanish punctuation\n",
    "non_words.extend(['¿', '¡'])\n",
    "non_words.extend(map(str,range(10)))\n",
    "print(non_words)"
   ]
  },
  {
   "cell_type": "code",
   "execution_count": 457,
   "metadata": {
    "collapsed": false,
    "jupyter": {
     "outputs_hidden": false
    }
   },
   "outputs": [],
   "source": [
    "from sklearn.feature_extraction.text import CountVectorizer       \n",
    "from nltk.stem import SnowballStemmer\n",
    "from nltk.tokenize import word_tokenize\n",
    "\n",
    "# based on http://www.cs.duke.edu/courses/spring14/compsci290/assignments/lab02.html\n",
    "stemmer = SnowballStemmer('spanish')\n",
    "def stem_tokens(tokens, stemmer):\n",
    "    stemmed = []\n",
    "    for item in tokens:\n",
    "        stemmed.append(stemmer.stem(item))\n",
    "    return stemmed\n",
    "\n",
    "def tokenize(text):\n",
    "    # remove non letters\n",
    "    text = ''.join([c for c in text if c not in non_words]) # ?\n",
    "    # tokenize\n",
    "    tokens =  word_tokenize(text)\n",
    "\n",
    "    # stem\n",
    "    try:\n",
    "        stems = stem_tokens(tokens, stemmer)\n",
    "    except Exception as e:\n",
    "        print(e)\n",
    "        print(text)\n",
    "        stems = ['']\n",
    "    return stems"
   ]
  },
  {
   "cell_type": "markdown",
   "metadata": {},
   "source": [
    "## Support Vector Machine"
   ]
  },
  {
   "cell_type": "code",
   "execution_count": 504,
   "metadata": {
    "collapsed": false,
    "jupyter": {
     "outputs_hidden": false
    }
   },
   "outputs": [],
   "source": [
    "from sklearn.model_selection import cross_val_score, GridSearchCV\n",
    "from sklearn.svm import SVC\n",
    "from sklearn.pipeline import Pipeline"
   ]
  },
  {
   "cell_type": "markdown",
   "metadata": {},
   "source": [
    "Using a latent semantic embedding from vectorizer and a linear support vector machine"
   ]
  },
  {
   "cell_type": "code",
   "execution_count": 529,
   "metadata": {
    "collapsed": false,
    "jupyter": {
     "outputs_hidden": false
    }
   },
   "outputs": [],
   "source": [
    "vectorizer = CountVectorizer(\n",
    "                analyzer = 'word',\n",
    "                tokenizer = tokenize,\n",
    "                lowercase = True,\n",
    "                stop_words = stem_tokens(spanish_stopwords,stemmer))\n",
    "\n",
    "pipeline = Pipeline([\n",
    "    ('vect', vectorizer),\n",
    "    ('cls', SVC(kernel='linear',probability=True)),\n",
    "])\n",
    "\n",
    "\n",
    "parameters = {\n",
    "    'vect__max_df': (0.5, 1.9),\n",
    "    'vect__min_df': (10, 20,50),\n",
    "    'vect__max_features': (500, 1000),\n",
    "    'vect__ngram_range': ((1, 1), (1, 2)),  # unigrams or bigrams\n",
    "    'cls__C': (0.4, 0.7, 1, 1.3),\n",
    "    'cls__max_iter': (500, 1000)\n",
    "}\n",
    "\n",
    "\n",
    "grid_search_roc = GridSearchCV(pipeline, parameters, n_jobs=-1 , scoring='roc_auc')\n",
    "grid_search_f1 = GridSearchCV(pipeline, parameters, n_jobs=-1 , scoring='f1')"
   ]
  },
  {
   "cell_type": "code",
   "execution_count": 506,
   "metadata": {},
   "outputs": [
    {
     "name": "stderr",
     "output_type": "stream",
     "text": [
      "C:\\Users\\User\\miniconda3\\lib\\site-packages\\sklearn\\feature_extraction\\text.py:386: UserWarning: Your stop_words may be inconsistent with your preprocessing. Tokenizing the stop words generated tokens ['algun', 'com', 'contr', 'cuand', 'desd', 'dond', 'durant', 'eram', 'estab', 'estais', 'estam', 'estan', 'estand', 'estaran', 'estaras', 'esteis', 'estem', 'esten', 'estes', 'estuv', 'fuer', 'fues', 'fuim', 'fuist', 'hab', 'habr', 'habran', 'habras', 'hast', 'hem', 'hub', 'mas', 'mia', 'mias', 'mio', 'mios', 'much', 'nad', 'nosotr', 'nuestr', 'par', 'per', 'poc', 'porqu', 'qui', 'seais', 'seam', 'sent', 'ser', 'seran', 'seras', 'si', 'sient', 'sint', 'sobr', 'som', 'suy', 'tambien', 'tant', 'ten', 'tendr', 'tendran', 'tendras', 'teng', 'tien', 'tod', 'tuv', 'tuy', 'vosotr', 'vuestr'] not in stop_words.\n",
      "  'stop_words.' % sorted(inconsistent))\n",
      "C:\\Users\\User\\miniconda3\\lib\\site-packages\\sklearn\\svm\\_base.py:249: ConvergenceWarning: Solver terminated early (max_iter=1000).  Consider pre-processing your data with StandardScaler or MinMaxScaler.\n",
      "  % self.max_iter, ConvergenceWarning)\n"
     ]
    },
    {
     "data": {
      "text/plain": [
       "GridSearchCV(estimator=Pipeline(steps=[('vect',\n",
       "                                        CountVectorizer(stop_words=['de', 'la',\n",
       "                                                                    'que', 'el',\n",
       "                                                                    'en', 'y',\n",
       "                                                                    'a', 'los',\n",
       "                                                                    'del', 'se',\n",
       "                                                                    'las',\n",
       "                                                                    'por', 'un',\n",
       "                                                                    'para',\n",
       "                                                                    'con', 'no',\n",
       "                                                                    'una', 'su',\n",
       "                                                                    'al', 'lo',\n",
       "                                                                    'como',\n",
       "                                                                    'más',\n",
       "                                                                    'pero',\n",
       "                                                                    'sus', 'le',\n",
       "                                                                    'ya', 'o',\n",
       "                                                                    'este',\n",
       "                                                                    'sí',\n",
       "                                                                    'porque', ...],\n",
       "                                                        tokenizer=<function tokenize at 0x000001C6626BDF78>)),\n",
       "                                       ('cls',\n",
       "                                        SVC(kernel='linear',\n",
       "                                            probability=True))]),\n",
       "             n_jobs=-1,\n",
       "             param_grid={'cls__C': (0.4, 0.7, 1, 1.3),\n",
       "                         'cls__max_iter': (500, 1000),\n",
       "                         'vect__max_df': (0.5, 1.9),\n",
       "                         'vect__max_features': (500, 1000),\n",
       "                         'vect__min_df': (10, 20, 50),\n",
       "                         'vect__ngram_range': ((1, 1), (1, 2))},\n",
       "             scoring='roc_auc')"
      ]
     },
     "execution_count": 506,
     "metadata": {},
     "output_type": "execute_result"
    }
   ],
   "source": [
    "grid_search_roc.fit(tweets_corpus.content, tweets_corpus.polarity_bin)"
   ]
  },
  {
   "cell_type": "code",
   "execution_count": 507,
   "metadata": {},
   "outputs": [
    {
     "name": "stderr",
     "output_type": "stream",
     "text": [
      "C:\\Users\\User\\miniconda3\\lib\\site-packages\\sklearn\\feature_extraction\\text.py:386: UserWarning: Your stop_words may be inconsistent with your preprocessing. Tokenizing the stop words generated tokens ['algun', 'com', 'contr', 'cuand', 'desd', 'dond', 'durant', 'eram', 'estab', 'estais', 'estam', 'estan', 'estand', 'estaran', 'estaras', 'esteis', 'estem', 'esten', 'estes', 'estuv', 'fuer', 'fues', 'fuim', 'fuist', 'hab', 'habr', 'habran', 'habras', 'hast', 'hem', 'hub', 'mas', 'mia', 'mias', 'mio', 'mios', 'much', 'nad', 'nosotr', 'nuestr', 'par', 'per', 'poc', 'porqu', 'qui', 'seais', 'seam', 'sent', 'ser', 'seran', 'seras', 'si', 'sient', 'sint', 'sobr', 'som', 'suy', 'tambien', 'tant', 'ten', 'tendr', 'tendran', 'tendras', 'teng', 'tien', 'tod', 'tuv', 'tuy', 'vosotr', 'vuestr'] not in stop_words.\n",
      "  'stop_words.' % sorted(inconsistent))\n",
      "C:\\Users\\User\\miniconda3\\lib\\site-packages\\sklearn\\svm\\_base.py:249: ConvergenceWarning: Solver terminated early (max_iter=1000).  Consider pre-processing your data with StandardScaler or MinMaxScaler.\n",
      "  % self.max_iter, ConvergenceWarning)\n"
     ]
    },
    {
     "data": {
      "text/plain": [
       "GridSearchCV(estimator=Pipeline(steps=[('vect',\n",
       "                                        CountVectorizer(stop_words=['de', 'la',\n",
       "                                                                    'que', 'el',\n",
       "                                                                    'en', 'y',\n",
       "                                                                    'a', 'los',\n",
       "                                                                    'del', 'se',\n",
       "                                                                    'las',\n",
       "                                                                    'por', 'un',\n",
       "                                                                    'para',\n",
       "                                                                    'con', 'no',\n",
       "                                                                    'una', 'su',\n",
       "                                                                    'al', 'lo',\n",
       "                                                                    'como',\n",
       "                                                                    'más',\n",
       "                                                                    'pero',\n",
       "                                                                    'sus', 'le',\n",
       "                                                                    'ya', 'o',\n",
       "                                                                    'este',\n",
       "                                                                    'sí',\n",
       "                                                                    'porque', ...],\n",
       "                                                        tokenizer=<function tokenize at 0x000001C6626BDF78>)),\n",
       "                                       ('cls',\n",
       "                                        SVC(kernel='linear',\n",
       "                                            probability=True))]),\n",
       "             n_jobs=-1,\n",
       "             param_grid={'cls__C': (0.4, 0.7, 1, 1.3),\n",
       "                         'cls__max_iter': (500, 1000),\n",
       "                         'vect__max_df': (0.5, 1.9),\n",
       "                         'vect__max_features': (500, 1000),\n",
       "                         'vect__min_df': (10, 20, 50),\n",
       "                         'vect__ngram_range': ((1, 1), (1, 2))},\n",
       "             scoring='f1')"
      ]
     },
     "execution_count": 507,
     "metadata": {},
     "output_type": "execute_result"
    }
   ],
   "source": [
    "grid_search_f1.fit(tweets_corpus.content, tweets_corpus.polarity_bin)"
   ]
  },
  {
   "cell_type": "code",
   "execution_count": 510,
   "metadata": {
    "collapsed": false,
    "jupyter": {
     "outputs_hidden": false
    }
   },
   "outputs": [
    {
     "data": {
      "text/plain": [
       "{'cls__C': 0.4,\n",
       " 'cls__max_iter': 1000,\n",
       " 'vect__max_df': 0.5,\n",
       " 'vect__max_features': 1000,\n",
       " 'vect__min_df': 10,\n",
       " 'vect__ngram_range': (1, 2)}"
      ]
     },
     "execution_count": 510,
     "metadata": {},
     "output_type": "execute_result"
    }
   ],
   "source": [
    "grid_search_roc.best_params_"
   ]
  },
  {
   "cell_type": "code",
   "execution_count": 511,
   "metadata": {
    "collapsed": false,
    "jupyter": {
     "outputs_hidden": false
    }
   },
   "outputs": [
    {
     "data": {
      "text/plain": [
       "{'cls__C': 0.4,\n",
       " 'cls__max_iter': 1000,\n",
       " 'vect__max_df': 0.5,\n",
       " 'vect__max_features': 1000,\n",
       " 'vect__min_df': 10,\n",
       " 'vect__ngram_range': (1, 2)}"
      ]
     },
     "execution_count": 511,
     "metadata": {},
     "output_type": "execute_result"
    }
   ],
   "source": [
    "grid_search_f1.best_params_"
   ]
  },
  {
   "cell_type": "markdown",
   "metadata": {},
   "source": [
    "Save the model"
   ]
  },
  {
   "cell_type": "code",
   "execution_count": 512,
   "metadata": {
    "collapsed": false,
    "jupyter": {
     "outputs_hidden": false
    }
   },
   "outputs": [
    {
     "data": {
      "text/plain": [
       "['grid_search.pkl']"
      ]
     },
     "execution_count": 512,
     "metadata": {},
     "output_type": "execute_result"
    }
   ],
   "source": [
    "import joblib\n",
    "joblib.dump(grid_search, 'grid_search.pkl')"
   ]
  },
  {
   "cell_type": "markdown",
   "metadata": {},
   "source": [
    "## Validation"
   ]
  },
  {
   "cell_type": "code",
   "execution_count": 515,
   "metadata": {},
   "outputs": [
    {
     "data": {
      "text/plain": [
       "SVC(C=0.4, max_iter=1000, tol=0.0001)"
      ]
     },
     "execution_count": 515,
     "metadata": {},
     "output_type": "execute_result"
    }
   ],
   "source": [
    "model = SVC(C=0.4, max_iter=1000,tol=0.0001)\n",
    "\n",
    "vectorizer = CountVectorizer(\n",
    "    analyzer = 'word',\n",
    "    tokenizer = tokenize,\n",
    "    lowercase = True,\n",
    "    stop_words = spanish_stopwords,\n",
    "    min_df = 10,\n",
    "    max_df = 0.5,\n",
    "    ngram_range=(1, 1),\n",
    "    max_features=1000\n",
    ")\n",
    "\n",
    "corpus_data_features = vectorizer.fit_transform(tweets_corpus.content)\n",
    "corpus_data_features_nd = corpus_data_features.toarray()\n",
    "model.fit(corpus_data_features, tweets_corpus.polarity_bin)\n"
   ]
  },
  {
   "cell_type": "code",
   "execution_count": 516,
   "metadata": {
    "scrolled": true
   },
   "outputs": [
    {
     "name": "stderr",
     "output_type": "stream",
     "text": [
      "C:\\Users\\User\\miniconda3\\lib\\site-packages\\sklearn\\svm\\_base.py:249: ConvergenceWarning: Solver terminated early (max_iter=1000).  Consider pre-processing your data with StandardScaler or MinMaxScaler.\n",
      "  % self.max_iter, ConvergenceWarning)\n",
      "C:\\Users\\User\\miniconda3\\lib\\site-packages\\sklearn\\svm\\_base.py:249: ConvergenceWarning: Solver terminated early (max_iter=1000).  Consider pre-processing your data with StandardScaler or MinMaxScaler.\n",
      "  % self.max_iter, ConvergenceWarning)\n",
      "C:\\Users\\User\\miniconda3\\lib\\site-packages\\sklearn\\svm\\_base.py:249: ConvergenceWarning: Solver terminated early (max_iter=1000).  Consider pre-processing your data with StandardScaler or MinMaxScaler.\n",
      "  % self.max_iter, ConvergenceWarning)\n",
      "C:\\Users\\User\\miniconda3\\lib\\site-packages\\sklearn\\svm\\_base.py:249: ConvergenceWarning: Solver terminated early (max_iter=1000).  Consider pre-processing your data with StandardScaler or MinMaxScaler.\n",
      "  % self.max_iter, ConvergenceWarning)\n",
      "C:\\Users\\User\\miniconda3\\lib\\site-packages\\sklearn\\svm\\_base.py:249: ConvergenceWarning: Solver terminated early (max_iter=1000).  Consider pre-processing your data with StandardScaler or MinMaxScaler.\n",
      "  % self.max_iter, ConvergenceWarning)\n",
      "C:\\Users\\User\\miniconda3\\lib\\site-packages\\sklearn\\svm\\_base.py:249: ConvergenceWarning: Solver terminated early (max_iter=1000).  Consider pre-processing your data with StandardScaler or MinMaxScaler.\n",
      "  % self.max_iter, ConvergenceWarning)\n",
      "C:\\Users\\User\\miniconda3\\lib\\site-packages\\sklearn\\svm\\_base.py:249: ConvergenceWarning: Solver terminated early (max_iter=1000).  Consider pre-processing your data with StandardScaler or MinMaxScaler.\n",
      "  % self.max_iter, ConvergenceWarning)\n"
     ]
    },
    {
     "data": {
      "text/plain": [
       "{'f1': 0.6911661614820208,\n",
       " 'roc_auc': 0.8106318795930811,\n",
       " 'accuracy': 0.7505007552613301}"
      ]
     },
     "execution_count": 516,
     "metadata": {},
     "output_type": "execute_result"
    }
   ],
   "source": [
    "metrics = [\"f1\", \"roc_auc\", \"accuracy\"]\n",
    "scores = [cross_val_score(\n",
    "    model,\n",
    "    corpus_data_features,\n",
    "    y=tweets_corpus.polarity_bin,\n",
    "    scoring=m,\n",
    "    cv=5\n",
    "    ) for m in metrics]\n",
    "\n",
    "dict(zip(metrics,[score.mean() for score in scores]))"
   ]
  },
  {
   "cell_type": "markdown",
   "metadata": {},
   "source": [
    "Our model has an AUC of 0.92 That will work!."
   ]
  },
  {
   "cell_type": "markdown",
   "metadata": {},
   "source": [
    "## Prediction"
   ]
  },
  {
   "cell_type": "markdown",
   "metadata": {},
   "source": [
    "Now we use the trained model to predict sentiment on the downloaded tweets on 495 unseen labeled tweets from Mexico."
   ]
  },
  {
   "cell_type": "code",
   "execution_count": 517,
   "metadata": {},
   "outputs": [
    {
     "data": {
      "text/html": [
       "<div>\n",
       "<style scoped>\n",
       "    .dataframe tbody tr th:only-of-type {\n",
       "        vertical-align: middle;\n",
       "    }\n",
       "\n",
       "    .dataframe tbody tr th {\n",
       "        vertical-align: top;\n",
       "    }\n",
       "\n",
       "    .dataframe thead th {\n",
       "        text-align: right;\n",
       "    }\n",
       "</style>\n",
       "<table border=\"1\" class=\"dataframe\">\n",
       "  <thead>\n",
       "    <tr style=\"text-align: right;\">\n",
       "      <th></th>\n",
       "      <th>content</th>\n",
       "      <th>value</th>\n",
       "    </tr>\n",
       "  </thead>\n",
       "  <tbody>\n",
       "    <tr>\n",
       "      <th>0</th>\n",
       "      <td>Soy mas complicado que una mujer jajajajaja</td>\n",
       "      <td>N</td>\n",
       "    </tr>\n",
       "    <tr>\n",
       "      <th>1</th>\n",
       "      <td>@CFE_GolfoNte @Cicmty buenos días, seguimos sin servicio!</td>\n",
       "      <td>N</td>\n",
       "    </tr>\n",
       "    <tr>\n",
       "      <th>2</th>\n",
       "      <td>Se viene la goleada, ya pitale árbitro... O quiten a Ochoa para que no se lo chinguen</td>\n",
       "      <td>N</td>\n",
       "    </tr>\n",
       "    <tr>\n",
       "      <th>3</th>\n",
       "      <td>Que gane el Madrid, pero que mi Ochoa no salga tan mal parado</td>\n",
       "      <td>NEU</td>\n",
       "    </tr>\n",
       "    <tr>\n",
       "      <th>4</th>\n",
       "      <td>@minideeharry yo pensé que ya te habías olvidado de nuestra hermandad chingona lo que es tener vida social y olvidarse de uno</td>\n",
       "      <td>P</td>\n",
       "    </tr>\n",
       "    <tr>\n",
       "      <th>...</th>\n",
       "      <td>...</td>\n",
       "      <td>...</td>\n",
       "    </tr>\n",
       "    <tr>\n",
       "      <th>491</th>\n",
       "      <td>Si quieren que aprenda algo de eso dejen esa materia sola un semestre completo, si no como</td>\n",
       "      <td>NEU</td>\n",
       "    </tr>\n",
       "    <tr>\n",
       "      <th>492</th>\n",
       "      <td>Últimos momentos en medicina familiar y de guardia C</td>\n",
       "      <td>NONE</td>\n",
       "    </tr>\n",
       "    <tr>\n",
       "      <th>493</th>\n",
       "      <td>@natyamezcua hay pues hay que ver que hacemos para vernos, te extraño, no quiero que te alejes</td>\n",
       "      <td>NEU</td>\n",
       "    </tr>\n",
       "    <tr>\n",
       "      <th>494</th>\n",
       "      <td>Me acabo de tragar un pastel en mood celina</td>\n",
       "      <td>N</td>\n",
       "    </tr>\n",
       "    <tr>\n",
       "      <th>495</th>\n",
       "      <td>Pobresita jajajaja, no no tendras su amistad de nuevo</td>\n",
       "      <td>N</td>\n",
       "    </tr>\n",
       "  </tbody>\n",
       "</table>\n",
       "<p>496 rows × 2 columns</p>\n",
       "</div>"
      ],
      "text/plain": [
       "                                                                                                                           content  \\\n",
       "0                                                                                      Soy mas complicado que una mujer jajajajaja   \n",
       "1                                                                        @CFE_GolfoNte @Cicmty buenos días, seguimos sin servicio!   \n",
       "2                                            Se viene la goleada, ya pitale árbitro... O quiten a Ochoa para que no se lo chinguen   \n",
       "3                                                                    Que gane el Madrid, pero que mi Ochoa no salga tan mal parado   \n",
       "4    @minideeharry yo pensé que ya te habías olvidado de nuestra hermandad chingona lo que es tener vida social y olvidarse de uno   \n",
       "..                                                                                                                             ...   \n",
       "491                                     Si quieren que aprenda algo de eso dejen esa materia sola un semestre completo, si no como   \n",
       "492                                                                           Últimos momentos en medicina familiar y de guardia C   \n",
       "493                                 @natyamezcua hay pues hay que ver que hacemos para vernos, te extraño, no quiero que te alejes   \n",
       "494                                                                                    Me acabo de tragar un pastel en mood celina   \n",
       "495                                                                          Pobresita jajajaja, no no tendras su amistad de nuevo   \n",
       "\n",
       "    value  \n",
       "0       N  \n",
       "1       N  \n",
       "2       N  \n",
       "3     NEU  \n",
       "4       P  \n",
       "..    ...  \n",
       "491   NEU  \n",
       "492  NONE  \n",
       "493   NEU  \n",
       "494     N  \n",
       "495     N  \n",
       "\n",
       "[496 rows x 2 columns]"
      ]
     },
     "execution_count": 517,
     "metadata": {},
     "output_type": "execute_result"
    }
   ],
   "source": [
    "tweets_test = pd.read_csv('TASS2019_country_MX_test.csv', engine='python') \n",
    "tweets_test = tweets_test[[\"content\",\"value\"]]\n",
    "tweets_test"
   ]
  },
  {
   "cell_type": "code",
   "execution_count": 520,
   "metadata": {},
   "outputs": [
    {
     "name": "stdout",
     "output_type": "stream",
     "text": [
      "N    259\n",
      "P    146\n",
      "Name: value, dtype: int64\n"
     ]
    },
    {
     "data": {
      "text/plain": [
       "N    0.639506\n",
       "P    0.360494\n",
       "Name: value, dtype: float64"
      ]
     },
     "execution_count": 520,
     "metadata": {},
     "output_type": "execute_result"
    }
   ],
   "source": [
    "tweets_test = tweets_test[tweets_test.value.isin(['P', 'N'])]\n",
    "\n",
    "tweets_test.loc[:,'polarity_bin'] = 0\n",
    "tweets_test.polarity_bin.loc[tweets_test.value == 'P'] = 1\n",
    "print(tweets_test.value.value_counts())\n",
    "tweets_test.value.value_counts(normalize=True)"
   ]
  },
  {
   "cell_type": "code",
   "execution_count": 521,
   "metadata": {},
   "outputs": [],
   "source": [
    "pipeline = Pipeline([\n",
    "    ('vect', vectorizer),\n",
    "    ('cls', model),\n",
    "])"
   ]
  },
  {
   "cell_type": "code",
   "execution_count": 522,
   "metadata": {},
   "outputs": [
    {
     "data": {
      "image/png": "[encoded data removed]",
      "text/plain": [
       "<Figure size 432x288 with 2 Axes>"
      ]
     },
     "metadata": {
      "needs_background": "light"
     },
     "output_type": "display_data"
    },
    {
     "data": {
      "image/png": "[encoded data removed]",
      "text/plain": [
       "<Figure size 432x288 with 2 Axes>"
      ]
     },
     "metadata": {
      "needs_background": "light"
     },
     "output_type": "display_data"
    }
   ],
   "source": [
    "from sklearn.metrics import plot_confusion_matrix\n",
    "import matplotlib.pyplot as plt\n",
    "\n",
    "titles_options = [(\"Confusion matrix, without normalization\", None),\n",
    "                  (\"Normalized confusion matrix\", 'true')]\n",
    "\n",
    "for title, normalize in titles_options:\n",
    "    disp = plot_confusion_matrix(pipeline, tweets_test.content, tweets_test.polarity_bin,\n",
    "                                 display_labels=[\"N\",\"P\"],\n",
    "                                 cmap=plt.cm.Blues,\n",
    "                                 normalize=normalize)\n",
    "    disp.ax_.set_title(title)\n",
    "\n",
    "    disp.confusion_matrix\n",
    "\n",
    "plt.show()"
   ]
  },
  {
   "cell_type": "code",
   "execution_count": 523,
   "metadata": {},
   "outputs": [
    {
     "data": {
      "text/plain": [
       "0.7925925925925926"
      ]
     },
     "execution_count": 523,
     "metadata": {},
     "output_type": "execute_result"
    }
   ],
   "source": [
    "(212+109)/(212+109+47+37)"
   ]
  },
  {
   "cell_type": "code",
   "execution_count": 524,
   "metadata": {},
   "outputs": [
    {
     "data": {
      "text/plain": [
       "0.7580246913580246"
      ]
     },
     "execution_count": 524,
     "metadata": {},
     "output_type": "execute_result"
    }
   ],
   "source": [
    "(191+116)/(191+116+68+30)"
   ]
  },
  {
   "cell_type": "code",
   "execution_count": null,
   "metadata": {},
   "outputs": [],
   "source": []
  }
 ],
 "metadata": {
  "kernelspec": {
   "display_name": "Python 3",
   "language": "python",
   "name": "python3"
  },
  "language_info": {
   "codemirror_mode": {
    "name": "ipython",
    "version": 3
   },
   "file_extension": ".py",
   "mimetype": "text/x-python",
   "name": "python",
   "nbconvert_exporter": "python",
   "pygments_lexer": "ipython3",
   "version": "3.7.7"
  }
 },
 "nbformat": 4,
 "nbformat_minor": 4
}
