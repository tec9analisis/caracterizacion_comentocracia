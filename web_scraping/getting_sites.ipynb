{
 "cells": [
  {
   "cell_type": "markdown",
   "metadata": {},
   "source": [
    "# Usando requests_html\n",
    "\n",
    "Con esta librería ya no se usan los headers (para error forbiden).\n",
    "\n",
    "Esta herramienta usa chromium, así que la primera vces que lo uses se instalaŕa."
   ]
  },
  {
   "cell_type": "code",
   "execution_count": 1,
   "metadata": {},
   "outputs": [],
   "source": [
    "from bs4 import BeautifulSoup\n",
    "from requests_html import HTMLSession, AsyncHTMLSession"
   ]
  },
  {
   "cell_type": "code",
   "execution_count": 2,
   "metadata": {},
   "outputs": [],
   "source": [
    "aristegi=\"https://aristeguinoticias.com/0208/mexico/detienen-a-el-marro-lider-del-cartel-de-santa-rosa-de-lima/\"\n",
    "laJornada=\"https://www.jornada.com.mx/2020/08/02/mundo/023n1mun\"\n",
    "forbesMX=\"https://www.forbes.com.mx/capturan-a-el-marro-lider-del-cartel-santa-rosa-de-lima-en-celaya/\"\n",
    "headers = { \"user-agent\": \"Mozilla/5.0 (X11; Linux x86_64) AppleWebKit/537.36 (KHTML, like Gecko) Ubuntu Chromium/71.0.3578.80 Chrome/71.0.3578.80 Safari/537.36\", }"
   ]
  },
  {
   "cell_type": "markdown",
   "metadata": {},
   "source": [
    "# Sin renderizar\n",
    "\n",
    "## La jornada"
   ]
  },
  {
   "cell_type": "code",
   "execution_count": 3,
   "metadata": {},
   "outputs": [
    {
     "data": {
      "text/plain": [
       "[<p class=\"s-s\">Portland. Los agentes federales de Estados Unidos desplegados en Portland, escenario de fuertes protestas, permanecerán en la ciudad hasta que la policía local termine <q>la limpieza de anarquistas y agitadores</q>, dijo el presidente, Donald Trump.</p>,\n",
       " <p>Las fuerzas, cuyo despliegue es considerado por muchos como parte de la estrategia de ley y orden del presidente con vistas a su relección en los comicios presidenciales de noviembre, y que ha exacerbado las tensiones con los manifestantes contra el racismo, empezaron a retirarse de Portland el jueves.</p>,\n",
       " <p><q>Seguridad Interior no abandonará Portland hasta que la policía local termine la limpieza de anarquistas y agitadores</q>, tuiteó el mandatario, luego que los agentes federales comenzaron su repliegue programado de la ciudad sacudida por fuertes protestas contra el racismo y la brutalidad policial.</p>,\n",
       " <p>Cientos de manifestantes estaban en las calles del centro de Portland la mañana de ayer pero no había fuerzas federales a la vista.</p>,\n",
       " <p>El alcalde de Portland, el demócrata Ted Wheeler, aseguró que esa acción formaba parte del acuerdo de retirada de los agentes federales.</p>,\n",
       " <p>En un tuit a última hora del viernes, Wheeler dio las gracias a los manifestantes pacíficos y dijo que habían <q>reclamado el espacio que había sido escenario de violencia para compartir su poderoso mensaje de reformar la justicia</q>.</p>,\n",
       " <p>A principios de julio, el gobierno de Trump envió agentes federales, muchos con uniformes de combate, a esta ciudad de 650 mil habitantes después de que resultaron vandalizados la sede de la corte federal y otros edificios públicos durante las protestas desatadas por el asesinato en Minneapolis del afroestadunidense George Floyd a manos de un policía blanco el 25 de mayo.</p>,\n",
       " <p>La presencia de las fuerzas federales agravó la situación en Portland, sobre todo después de que salieran a luz videos en los que se veían manifestantes arrestados por agentes en autos sin identificación.</p>,\n",
       " <p>Los demócratas denunciaron que la intervención apestaba a <q>estado policial</q>, mientras el fiscal general del país, Bill Barr, defendió el recurso a las fuerzas federales y rechazó que tenga motivación política.</p>,\n",
       " <p><q>Tras la muerte de George Floyd, manifestantes violentos y anarquistas han secuestrado las protestas legítimas para desatar el caos y la destrucción sin sentido en víctimas inocentes</q>, dijo Barr ante el Comité de Justicia del Congreso.</p>,\n",
       " <p>Según un acuerdo alcanzado entre las autoridades de Oregón y la administración de Trump el miércoles, las fuerzas federales comenzaron a retirarse de Portland el jueves.</p>,\n",
       " <p>Sin embargo, su retirada estaba condicionada a que la policía local garantizara la seguridad de los edificios que albergan las instituciones que fueron objeto de la ira de los manifestantes.</p>,\n",
       " <p>El secretario interino de Seguridad Nacional, Chad Wolf, advirtió a principios de semana que la retirada dependía de que la situación de seguridad mejorara <q>significativamente</q>.</p>,\n",
       " <p>El jueves Trump reiteró la necesidad de una intervención federal. <q>Hemos estado tratando con el gobernador y el alcalde y creemos que no saben lo que están haciendo, porque esto no debería haber estado sucediendo durante 60 días</q>, dijo a los periodistas.</p>,\n",
       " <p><q>No es nuestro trabajo entrar y limpiar las ciudades. Se supone que eso lo tiene que hacer la policía local</q>, agregó el mandatario.</p>,\n",
       " <p>Trump, por otra parte, anunció el viernes que prohibirá en Estados Unidos la red social TikTok, por las sospechas de que es utilizada por los servicios de inteligencia de China. <q>En lo que respecta a TikTok, lo vamos a prohibir en Estados Unidos</q>, dijo Trump a la prensa en el avión presidencial Air Force One.</p>,\n",
       " <p>TikTok, una aplicación de videos muy popular entre los jóvenes cuya casa matriz es ByteDance, con sede en China, tiene alrededor de mil millones de usuarios en todo el mundo.</p>,\n",
       " <p>La plataforma es objeto de una investigación de CFIUS, la agencia estadunidense encargada de vigilar que las inversiones extranjeras no supongan riesgo para la seguridad nacional.</p>,\n",
       " <p>Funcionarios y legisladores estadunidenses expresaron en las últimas semanas su preocupación por la posibilidad de que TikTok sea utilizado por China con fines de espionaje, pero la compañía ha negado cualquier vínculo con Pekín.</p>]"
      ]
     },
     "execution_count": 3,
     "metadata": {},
     "output_type": "execute_result"
    }
   ],
   "source": [
    "session = HTMLSession()\n",
    "r=session.get(laJornada)\n",
    "soup = BeautifulSoup(r.html.html)\n",
    "jornada_text=soup.article.find_all(\"div\",id=\"article-text\")[0].find_all(\"p\")\n",
    "jornada_text"
   ]
  },
  {
   "cell_type": "markdown",
   "metadata": {},
   "source": [
    "# Renderizando\n",
    "\n",
    "## Aristegi"
   ]
  },
  {
   "cell_type": "code",
   "execution_count": 4,
   "metadata": {},
   "outputs": [],
   "source": [
    "asession = AsyncHTMLSession()\n",
    "r=await asession.get(aristegi)\n",
    "await r.html.arender(sleep=10,keep_page=True,scrolldown=5)\n",
    "soup = BeautifulSoup(r.html.html)\n"
   ]
  },
  {
   "cell_type": "code",
   "execution_count": 5,
   "metadata": {},
   "outputs": [
    {
     "data": {
      "text/plain": [
       "<div _ngcontent-ght-c4=\"\" class=\"wrappercont\"><p>La madrugada de este domingo fue detenido <strong>José Antonio Yepez Ortiz, alias “El Marro”</strong>, identificado como el fundador y líder del Cártel de Santa Rosa de Lima, uno de los principales responsables de la ola de violencia que padece Guanajuato.</p>\n",
       "<p>Alfonso Durazo, secretario de Seguridad y Protección Ciudadana, informó que el operativo fue encabezado por el <strong>Ejército mexicano</strong> y contó con el apoyo de la Fiscalía de Guanajuato.</p>\n",
       "\n",
       "<p><script async=\"\" charset=\"utf-8\" src=\"https://platform.twitter.com/widgets.js\"></script></p>\n",
       "<p>El gobernador de Guanajuato, Diego Sinhue Rodríguez, dio a conocer que también <strong>fue rescatada una mujer</strong>, originaria de Apaseo El Alto, que se encontraba retenida por el grupo criminal.</p>\n",
       "<p>Además, se logró la detención de otros cinco presuntos criminales y el aseguramiento de un arsenal.</p>\n",
       "\n",
       "<p><script async=\"\" charset=\"utf-8\" src=\"https://platform.twitter.com/widgets.js\"></script></p>\n",
       "\n",
       "<p><script async=\"\" charset=\"utf-8\" src=\"https://platform.twitter.com/widgets.js\"></script></p>\n",
       "<p>La Fiscalía de Guanajuato difundió fotografías del operativo en las que se aprecia al presunto criminal sometido por un elemento del Ejército mexicano y por otro de la Agencia de Investigación Criminal:</p>\n",
       "\n",
       "<p><script async=\"\" charset=\"utf-8\" src=\"https://platform.twitter.com/widgets.js\"></script></p>\n",
       "<p><strong>En redes sociales también se difundieron videos de la aprehensión del Marro:</strong></p>\n",
       "\n",
       "<p> </p>\n",
       "\n",
       "<h3><strong>A sangre y fuego</strong></h3>\n",
       "<p>“El Marro” se encontraba inmerso en una pelea a “sangre y fuego” con el Cártel Jalisco Nueva Generación y las fuerzas federales por el dominio de la región bajío, y pese a que era uno de los principales objetivos del gobierno federal mantenía una <strong>posición ofensiva</strong>, dijo el consultor y asesor en materia de seguridad, David Saucedo, en #<a href=\"https://aristeguinoticias.com/0207/mexico/falso-que-el-cartel-de-santa-rosa-se-esta-replegando-el-marro-esta-a-la-ofensiva-consultor-enterate/\"><span style=\"color: #ff0000;\">AristeguienVivo</span></a>.</p>\n",
       "<p>“El Marro” ganó poder económico al controlar la sustracción ilegal de combustibles en el estado de Guanajuato, logrando  infiltrar a la Refinería de Salamanca.</p>\n",
       "<p>José Antonio Yepez Ortiz operó durante años en las sombras, pero la guerra contra el huachicoleo anunciada por el actual gobierno federal lo obligó a hacerse más violento y recurrir a su “base social” para bloquear el trabajo de las autoridades.</p>\n",
       "<p style=\"padding-left: 40px;\">Ver: <a href=\"https://aristeguinoticias.com/0107/mexico/el-nuevo-campo-de-batalla-contra-el-crimen-organizado-en-mexico/\"><span style=\"color: #ff0000;\">Reportaje sobre el Cártel Santa Rosa de Lima y el papel de el Marro en Guanajuato</span></a></p>\n",
       "<p>A finales de junio su madre fue detenida en un operativo de la Fiscalía de Guanajuato, pero liberada horas después por falta de pruebas.</p>\n",
       "<p>Los operativos contra miembros de su familia detonaron amenazas del presunto criminal, las cuales se vieron materializadas con un aumento en el número de homicidios en la entidad.</p>\n",
       "<p style=\"padding-left: 40px;\">Ver nota: <a href=\"https://aristeguinoticias.com/undefined/mexico/amenaza-el-marro-con-mas-violencia-en-guanajuato/\"><span style=\"color: #ff0000;\">Amenaza El Marro con más violencia en Guanajuato.</span></a></p>\n",
       "</div>"
      ]
     },
     "execution_count": 5,
     "metadata": {},
     "output_type": "execute_result"
    }
   ],
   "source": [
    "content=list()\n",
    "queue=soup.find_all(\"div\")\n",
    "\n",
    "while(len(queue)>0):\n",
    "    tag=queue.pop(0)\n",
    "    for son in tag.find_all(\"div\"):\n",
    "        tag.append(son)\n",
    "    if(\"class\" in tag.attrs):\n",
    "        if(\"wrappercont\" in tag[\"class\"]):\n",
    "            content.append(tag)\n",
    "\n",
    "aristegi_text=content[0]\n",
    "aristegi_text"
   ]
  },
  {
   "cell_type": "markdown",
   "metadata": {},
   "source": [
    "## Forbes"
   ]
  },
  {
   "cell_type": "code",
   "execution_count": 6,
   "metadata": {},
   "outputs": [],
   "source": [
    "asession = AsyncHTMLSession()\n",
    "r=await asession.get(forbesMX)\n",
    "await r.html.arender(sleep=10,keep_page=True,scrolldown=5)\n",
    "soup = BeautifulSoup(r.html.html)"
   ]
  },
  {
   "cell_type": "code",
   "execution_count": 7,
   "metadata": {},
   "outputs": [
    {
     "data": {
      "text/plain": [
       "<div class=\"link-braces entry-content\">\n",
       "<p>José Antonio Yépez Ortíz, alias ‘El Marro’, <strong>fue detenido en un operativo conjunto de fuerzas de seguridad del estado de Guanajuato y </strong>fuerzas federales, informó la madrugada de este domingo 2 de agosto el gobernador Diego Sinhué Rodríguez Vallejo.</p>\n",
       "<p>Mediante su cuenta de Twitter, el funcionario publicó: “Quiero informarles que esta madrugada en un operativo conjunto entre Fuerzas Estatales y Federales fue detenido el principal líder de un grupo criminal que operaba en la región Laja-Bajío del Estado de Guanajuato”.</p>\n",
       "<figure class=\"wp-block-embed-twitter wp-block-embed is-type-rich is-provider-twitter\"></figure>\n",
       "<p>Asimismo, las autoridades estatales reportaron que en el operativo también detuvieron a cinco personas más y decomisaron un arsenal.<strong> Una empresaria, del municipio de Apaseo el Alto</strong> que presuntamente mantenían en secuestro fue liberada.</p>\n",
       "<p>En un inmueble se detuvo a ‘El Marro’ quien estaba acompañado por Saulo Sergio “N”, alias “Cebollo”, <strong>supuesto jefe de seguridad y cuatro elementos más de esa organización delictiva</strong>. A este grupo se le decomisaron armas, una camioneta tipo ‘pick up’, un lanzagranadas, una cuatrimoto, una motocicleta y una maleta con numerario. </p>\n",
       "<p><strong>Además, <strong>en este inmueble se localizó a una mujer</strong>, que presuntamente se encontraba secuestrada. Una empresaria, del municipio de Apaseo el Alto</strong> que presuntamente mantenían en secuestro fue liberada.</p>\n",
       "<p>En otro inmueble se localizaron a tres personas más, una de ellas con orden de aprehensión, asegurándose la cantidad de 36,400 pesos. </p>\n",
       "<p><em>Lee: <a href=\"https://www.forbes.com.mx/noticias-lider-cartel-violencia-guanajuato-detencion-familiares/\">Líder de cártel advierte más violencia en Guanajuato tras detención de familiares</a></em></p>\n",
       "<p>El secretario de Seguridad federal, <strong>Alfonso Durazo, dijo que en las próximas horas Yépez sería enviado a la prisión de alta seguridad Altiplano</strong> donde responderá a un juez por su implicación en crímenes como el robo de combustibles y delincuencia organizada.</p>\n",
       "<figure class=\"wp-block-embed-twitter wp-block-embed is-type-rich is-provider-twitter\"></figure>\n",
       "<p>El cártel de Santa Rosa de Lima es una de las bandas delictivas que se dedican al huachicoleo o robo de combustible de Pemex y, recientemente al tráfico de drogas y extorsión disputado los mercados ilegales de Guanajuato, especialmente, <strong>con el cártel de Jalisco Nueva Generación.</strong></p>\n",
       "<p>Leonel Cota Montaño, secretario ejecutivo del Sistema Nacional de Seguridad, dijo que este acto genera una gran confianza en el trabajo de las Fuerzas de Seguridad en el país. </p>\n",
       "<figure class=\"wp-block-embed-twitter wp-block-embed is-type-rich is-provider-twitter\"></figure>\n",
       "<p>El pasado 20 de junio, policías y militares arrestaron a 26 miembros del Cártel Santa Rosa de Lima en Celaya, Guanajuato, por lo que el líder de la organización, José Antonio Yépez “El Marro” prometió venganza.</p>\n",
       "<p>El líder criminal apareció en videos difundidos en redes sociales, uno de ellos para quejarse de la detención de su madre en Celaya, donde según autoridades se lograron “importantes detenciones”.</p>\n",
       "<p>Tras el operativo, el secretario de Seguridad Pública del Estado, Alvar Cabeza de Vaca, <strong>reportó que varios integrantes del grupo causaron daños y disturbios en varios puntos de la regió</strong>n.</p>\n",
       "<p>Posteriormente, el Ejército, la Guardia Nacional y la Fiscalía de Guanajuato, cuyos miembros participaron en el operativo, dijeron en un comunicado conjunto que entre los detenidos se encontraban María “N”, Juana “N” y Rosalba “N”, presuntas operadoras financieras del cártel.</p>\n",
       "<p><em>Lee también: <a href=\"https://www.forbes.com.mx/dejan-en-libertad-a-la-mama-del-marro-por-falta-de-pruebas/\">Dejan en libertad a la mamá del ‘Marro’ por falta de pruebas</a></em></p>\n",
       "<p>En su momento no precisaron si alguna de ellas es la madre de Yépez, pero más tarde identificaron a su madre, su hermana y sus primas que fueron  liberadas por falta de pruebas. Además, a los aprehendidos se les <strong>decomisó un kilo de metanfetamina y más de dos millones de pesos.</strong></p>\n",
       "<p>En otro video, grabado en el exterior de una vivienda, “El Marro”, con voz entrequebrada, pidió ayuda a sus aliados y les agradeció por el “apoyo” de las personas que bloquearon el paso de las autoridades en Celaya con vehículos incendiados. </p>\n",
       "<p>Sin embargo, <strong>una jueza liberó a los detenidos por falta de pruebas</strong>, lo que derivó en reproches entre el Gobierno Federal de Andrés Manuel López Obrador y el Gobierno de Guanajuato.</p>\n",
       "<p>‘El Marro’ es uno de los principales responsables de la escalada de violencia que ha vivido dicha entidad en los últimos años. </p>\n",
       "<p><em>Lee: <a href=\"https://www.forbes.com.mx/estos-son-los-grupos-que-roban-los-combustibles-de-pemex/\">Estos son los grupos que roban los combustibles de Pemex</a></em></p>\n",
       "<p>Guanajuato, sede de importantes armadoras de la industria automotriz, se ha convertido en uno de los puntos más críticos de la creciente violencia del crimen organizado, que el presidente Andrés Manuel López Obrador, se ha comprometido a contener.</p>\n",
       "<p>Guanajuato <strong>se ha mantenido como el estado con más homicidios en 2020</strong>, según las cifras del Secretariado Ejecutivo del Sistema Nacional de Seguridad Pública (SESNSP).</p>\n",
       "<p><strong>Entre enero y junio, se registraron 17,439 crímenes en el país, un 1.7% más que la cifra reportada en el primer semestre de 201</strong>9, de acuerdo con datos oficiales.</p>\n",
       "<h2>“<strong>Excelente noticia”</strong></h2>\n",
       "<p>El embajador de Estados Unidos en México, Christopher Landau, publicó en su cuenta de Twitter que la captura de “El Marro” es una excelente noticia para comenzar este domingo. </p>\n",
       "<figure class=\"wp-block-embed-twitter wp-block-embed is-type-rich is-provider-twitter\"></figure>\n",
       "<p><em>Con información de Reuters </em></p>\n",
       "<p></p>\n",
       "</div>"
      ]
     },
     "execution_count": 7,
     "metadata": {},
     "output_type": "execute_result"
    }
   ],
   "source": [
    "content=list()\n",
    "queue=soup.find_all(\"div\")\n",
    "\n",
    "while(len(queue)>0):\n",
    "    tag=queue.pop(0)\n",
    "    for son in tag.find_all(\"div\"):\n",
    "        tag.append(son)\n",
    "    if(\"class\" in tag.attrs):\n",
    "        if(\"entry-content\" in tag[\"class\"]):\n",
    "            content.append(tag)\n",
    "\n",
    "forbes_text=content[0]\n",
    "forbes_text"
   ]
  },
  {
   "cell_type": "code",
   "execution_count": null,
   "metadata": {},
   "outputs": [],
   "source": []
  }
 ],
 "metadata": {
  "kernelspec": {
   "display_name": "Python 3",
   "language": "python",
   "name": "python3"
  },
  "language_info": {
   "codemirror_mode": {
    "name": "ipython",
    "version": 3
   },
   "file_extension": ".py",
   "mimetype": "text/x-python",
   "name": "python",
   "nbconvert_exporter": "python",
   "pygments_lexer": "ipython3",
   "version": "3.7.6"
  }
 },
 "nbformat": 4,
 "nbformat_minor": 4
}
