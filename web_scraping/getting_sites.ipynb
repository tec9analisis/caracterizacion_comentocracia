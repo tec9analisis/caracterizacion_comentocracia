{
 "cells": [
  {
   "cell_type": "markdown",
   "metadata": {},
   "source": [
    "# Usando requests_html\n",
    "\n",
    "Con esta librería ya no se usan los headers (para error forbiden).\n",
    "\n",
    "Esta herramienta usa chromium, así que la primera vces que lo uses se instalaŕa."
   ]
  },
  {
   "cell_type": "code",
   "execution_count": 1,
   "metadata": {},
   "outputs": [],
   "source": [
    "from bs4 import BeautifulSoup\n",
    "from requests_html import HTMLSession, AsyncHTMLSession"
   ]
  },
  {
   "cell_type": "code",
   "execution_count": 2,
   "metadata": {},
   "outputs": [],
   "source": [
    "aristegi=\"https://aristeguinoticias.com/0208/mexico/detienen-a-el-marro-lider-del-cartel-de-santa-rosa-de-lima/\"\n",
    "laJornada=\"https://www.jornada.com.mx/2020/08/02/mundo/023n1mun\"\n",
    "forbesMX=\"https://www.forbes.com.mx/capturan-a-el-marro-lider-del-cartel-santa-rosa-de-lima-en-celaya/\"\n",
    "headers = { \"user-agent\": \"Mozilla/5.0 (X11; Linux x86_64) AppleWebKit/537.36 (KHTML, like Gecko) Ubuntu Chromium/71.0.3578.80 Chrome/71.0.3578.80 Safari/537.36\", }"
   ]
  },
  {
   "cell_type": "markdown",
   "metadata": {},
   "source": [
    "# Sin renderizar\n",
    "\n",
    "## La jornada"
   ]
  },
  {
   "cell_type": "code",
   "execution_count": 3,
   "metadata": {},
   "outputs": [
    {
     "data": {
      "text/plain": [
       "[<p class=\"s-s\">Portland. Los agentes federales de Estados Unidos desplegados en Portland, escenario de fuertes protestas, permanecerán en la ciudad hasta que la policía local termine <q>la limpieza de anarquistas y agitadores</q>, dijo el presidente, Donald Trump.</p>,\n",
       " <p>Las fuerzas, cuyo despliegue es considerado por muchos como parte de la estrategia de ley y orden del presidente con vistas a su relección en los comicios presidenciales de noviembre, y que ha exacerbado las tensiones con los manifestantes contra el racismo, empezaron a retirarse de Portland el jueves.</p>,\n",
       " <p><q>Seguridad Interior no abandonará Portland hasta que la policía local termine la limpieza de anarquistas y agitadores</q>, tuiteó el mandatario, luego que los agentes federales comenzaron su repliegue programado de la ciudad sacudida por fuertes protestas contra el racismo y la brutalidad policial.</p>,\n",
       " <p>Cientos de manifestantes estaban en las calles del centro de Portland la mañana de ayer pero no había fuerzas federales a la vista.</p>,\n",
       " <p>El alcalde de Portland, el demócrata Ted Wheeler, aseguró que esa acción formaba parte del acuerdo de retirada de los agentes federales.</p>,\n",
       " <p>En un tuit a última hora del viernes, Wheeler dio las gracias a los manifestantes pacíficos y dijo que habían <q>reclamado el espacio que había sido escenario de violencia para compartir su poderoso mensaje de reformar la justicia</q>.</p>,\n",
       " <p>A principios de julio, el gobierno de Trump envió agentes federales, muchos con uniformes de combate, a esta ciudad de 650 mil habitantes después de que resultaron vandalizados la sede de la corte federal y otros edificios públicos durante las protestas desatadas por el asesinato en Minneapolis del afroestadunidense George Floyd a manos de un policía blanco el 25 de mayo.</p>,\n",
       " <p>La presencia de las fuerzas federales agravó la situación en Portland, sobre todo después de que salieran a luz videos en los que se veían manifestantes arrestados por agentes en autos sin identificación.</p>,\n",
       " <p>Los demócratas denunciaron que la intervención apestaba a <q>estado policial</q>, mientras el fiscal general del país, Bill Barr, defendió el recurso a las fuerzas federales y rechazó que tenga motivación política.</p>,\n",
       " <p><q>Tras la muerte de George Floyd, manifestantes violentos y anarquistas han secuestrado las protestas legítimas para desatar el caos y la destrucción sin sentido en víctimas inocentes</q>, dijo Barr ante el Comité de Justicia del Congreso.</p>,\n",
       " <p>Según un acuerdo alcanzado entre las autoridades de Oregón y la administración de Trump el miércoles, las fuerzas federales comenzaron a retirarse de Portland el jueves.</p>,\n",
       " <p>Sin embargo, su retirada estaba condicionada a que la policía local garantizara la seguridad de los edificios que albergan las instituciones que fueron objeto de la ira de los manifestantes.</p>,\n",
       " <p>El secretario interino de Seguridad Nacional, Chad Wolf, advirtió a principios de semana que la retirada dependía de que la situación de seguridad mejorara <q>significativamente</q>.</p>,\n",
       " <p>El jueves Trump reiteró la necesidad de una intervención federal. <q>Hemos estado tratando con el gobernador y el alcalde y creemos que no saben lo que están haciendo, porque esto no debería haber estado sucediendo durante 60 días</q>, dijo a los periodistas.</p>,\n",
       " <p><q>No es nuestro trabajo entrar y limpiar las ciudades. Se supone que eso lo tiene que hacer la policía local</q>, agregó el mandatario.</p>,\n",
       " <p>Trump, por otra parte, anunció el viernes que prohibirá en Estados Unidos la red social TikTok, por las sospechas de que es utilizada por los servicios de inteligencia de China. <q>En lo que respecta a TikTok, lo vamos a prohibir en Estados Unidos</q>, dijo Trump a la prensa en el avión presidencial Air Force One.</p>,\n",
       " <p>TikTok, una aplicación de videos muy popular entre los jóvenes cuya casa matriz es ByteDance, con sede en China, tiene alrededor de mil millones de usuarios en todo el mundo.</p>,\n",
       " <p>La plataforma es objeto de una investigación de CFIUS, la agencia estadunidense encargada de vigilar que las inversiones extranjeras no supongan riesgo para la seguridad nacional.</p>,\n",
       " <p>Funcionarios y legisladores estadunidenses expresaron en las últimas semanas su preocupación por la posibilidad de que TikTok sea utilizado por China con fines de espionaje, pero la compañía ha negado cualquier vínculo con Pekín.</p>]"
      ]
     },
     "execution_count": 3,
     "metadata": {},
     "output_type": "execute_result"
    }
   ],
   "source": [
    "session = HTMLSession()\n",
    "r=session.get(laJornada)\n",
    "soup = BeautifulSoup(r.html.html)\n",
    "jornada_text=soup.article.find_all(\"div\",id=\"article-text\")[0].find_all(\"p\")\n",
    "jornada_text"
   ]
  },
  {
   "cell_type": "markdown",
   "metadata": {},
   "source": [
    "# Renderizando\n",
    "\n",
    "## Aristegi"
   ]
  },
  {
   "cell_type": "code",
   "execution_count": 4,
   "metadata": {},
   "outputs": [],
   "source": [
    "asession = AsyncHTMLSession()\n",
    "r=await asession.get(aristegi)\n",
    "await r.html.arender(sleep=10,keep_page=True,scrolldown=5)\n",
    "soup = BeautifulSoup(r.html.html)\n"
   ]
  },
  {
   "cell_type": "code",
   "execution_count": 5,
   "metadata": {},
   "outputs": [
    {
     "data": {
      "text/plain": [
       "<div _ngcontent-gxy-c55=\"\" class=\"wrappercont\"><p>La madrugada de este domingo fue detenido <strong>José Antonio Yepez Ortiz, alias “El Marro”</strong>, identificado como el fundador y líder del Cártel de Santa Rosa de Lima, uno de los principales responsables de la ola de violencia que padece Guanajuato.</p>\n",
       "<p>Alfonso Durazo, secretario de Seguridad y Protección Ciudadana, informó que el operativo fue encabezado por el <strong>Ejército mexicano</strong> y contó con el apoyo de la Fiscalía de Guanajuato.</p>\n",
       "\n",
       "<p><script async=\"\" charset=\"utf-8\" src=\"https://platform.twitter.com/widgets.js\"></script></p>\n",
       "<p>El gobernador de Guanajuato, Diego Sinhue Rodríguez, dio a conocer que también <strong>fue rescatada una mujer</strong>, originaria de Apaseo El Alto, que se encontraba retenida por el grupo criminal.</p>\n",
       "<p>Además, se logró la detención de otros cinco presuntos criminales y el aseguramiento de un arsenal.</p>\n",
       "\n",
       "<p><script async=\"\" charset=\"utf-8\" src=\"https://platform.twitter.com/widgets.js\"></script></p>\n",
       "\n",
       "<p><script async=\"\" charset=\"utf-8\" src=\"https://platform.twitter.com/widgets.js\"></script></p>\n",
       "<p>La Fiscalía de Guanajuato difundió fotografías del operativo en las que se aprecia al presunto criminal sometido por un elemento del Ejército mexicano y por otro de la Agencia de Investigación Criminal:</p>\n",
       "\n",
       "<p><script async=\"\" charset=\"utf-8\" src=\"https://platform.twitter.com/widgets.js\"></script></p>\n",
       "<p><strong>En redes sociales también se difundieron videos de la aprehensión del Marro:</strong></p>\n",
       "\n",
       "<p> </p>\n",
       "\n",
       "<h3><strong>A sangre y fuego</strong></h3>\n",
       "<p>“El Marro” se encontraba inmerso en una pelea a “sangre y fuego” con el Cártel Jalisco Nueva Generación y las fuerzas federales por el dominio de la región bajío, y pese a que era uno de los principales objetivos del gobierno federal mantenía una <strong>posición ofensiva</strong>, dijo el consultor y asesor en materia de seguridad, David Saucedo, en #<a href=\"https://aristeguinoticias.com/0207/mexico/falso-que-el-cartel-de-santa-rosa-se-esta-replegando-el-marro-esta-a-la-ofensiva-consultor-enterate/\"><span style=\"color: #ff0000;\">AristeguienVivo</span></a>.</p>\n",
       "<p>“El Marro” ganó poder económico al controlar la sustracción ilegal de combustibles en el estado de Guanajuato, logrando  infiltrar a la Refinería de Salamanca.</p>\n",
       "<p>José Antonio Yepez Ortiz operó durante años en las sombras, pero la guerra contra el huachicoleo anunciada por el actual gobierno federal lo obligó a hacerse más violento y recurrir a su “base social” para bloquear el trabajo de las autoridades.</p>\n",
       "<p style=\"padding-left: 40px;\">Ver: <a href=\"https://aristeguinoticias.com/0107/mexico/el-nuevo-campo-de-batalla-contra-el-crimen-organizado-en-mexico/\"><span style=\"color: #ff0000;\">Reportaje sobre el Cártel Santa Rosa de Lima y el papel de el Marro en Guanajuato</span></a></p>\n",
       "<p>A finales de junio su madre fue detenida en un operativo de la Fiscalía de Guanajuato, pero liberada horas después por falta de pruebas.</p>\n",
       "<p>Los operativos contra miembros de su familia detonaron amenazas del presunto criminal, las cuales se vieron materializadas con un aumento en el número de homicidios en la entidad.</p>\n",
       "<p style=\"padding-left: 40px;\">Ver nota: <a href=\"https://aristeguinoticias.com/undefined/mexico/amenaza-el-marro-con-mas-violencia-en-guanajuato/\"><span style=\"color: #ff0000;\">Amenaza El Marro con más violencia en Guanajuato.</span></a></p></div>"
      ]
     },
     "execution_count": 5,
     "metadata": {},
     "output_type": "execute_result"
    }
   ],
   "source": [
    "content=list()\n",
    "queue=soup.find_all(\"div\")\n",
    "\n",
    "while(len(queue)>0):\n",
    "    tag=queue.pop(0)\n",
    "    for son in tag.find_all(\"div\"):\n",
    "        tag.append(son)\n",
    "    if(\"class\" in tag.attrs):\n",
    "        if(\"wrappercont\" in tag[\"class\"]):\n",
    "            content.append(tag)\n",
    "\n",
    "aristegi_text=content[0]\n",
    "aristegi_text"
   ]
  },
  {
   "cell_type": "markdown",
   "metadata": {},
   "source": [
    "## Forbes"
   ]
  },
  {
   "cell_type": "code",
   "execution_count": null,
   "metadata": {},
   "outputs": [
    {
     "ename": "RuntimeError",
     "evalue": "This event loop is already running",
     "output_type": "error",
     "traceback": [
      "\u001b[0;31m---------------------------------------------------------------------------\u001b[0m",
      "\u001b[0;31mRuntimeError\u001b[0m                              Traceback (most recent call last)",
      "\u001b[0;32m/usr/lib/python3.6/runpy.py\u001b[0m in \u001b[0;36m_run_module_as_main\u001b[0;34m(mod_name, alter_argv)\u001b[0m\n\u001b[1;32m    191\u001b[0m         \u001b[0msys\u001b[0m\u001b[0;34m.\u001b[0m\u001b[0margv\u001b[0m\u001b[0;34m[\u001b[0m\u001b[0;36m0\u001b[0m\u001b[0;34m]\u001b[0m \u001b[0;34m=\u001b[0m \u001b[0mmod_spec\u001b[0m\u001b[0;34m.\u001b[0m\u001b[0morigin\u001b[0m\u001b[0;34m\u001b[0m\u001b[0;34m\u001b[0m\u001b[0m\n\u001b[1;32m    192\u001b[0m     return _run_code(code, main_globals, None,\n\u001b[0;32m--> 193\u001b[0;31m                      \"__main__\", mod_spec)\n\u001b[0m\u001b[1;32m    194\u001b[0m \u001b[0;34m\u001b[0m\u001b[0m\n\u001b[1;32m    195\u001b[0m def run_module(mod_name, init_globals=None,\n",
      "\u001b[0;32m/usr/lib/python3.6/runpy.py\u001b[0m in \u001b[0;36m_run_code\u001b[0;34m(code, run_globals, init_globals, mod_name, mod_spec, pkg_name, script_name)\u001b[0m\n\u001b[1;32m     83\u001b[0m                        \u001b[0m__package__\u001b[0m \u001b[0;34m=\u001b[0m \u001b[0mpkg_name\u001b[0m\u001b[0;34m,\u001b[0m\u001b[0;34m\u001b[0m\u001b[0;34m\u001b[0m\u001b[0m\n\u001b[1;32m     84\u001b[0m                        __spec__ = mod_spec)\n\u001b[0;32m---> 85\u001b[0;31m     \u001b[0mexec\u001b[0m\u001b[0;34m(\u001b[0m\u001b[0mcode\u001b[0m\u001b[0;34m,\u001b[0m \u001b[0mrun_globals\u001b[0m\u001b[0;34m)\u001b[0m\u001b[0;34m\u001b[0m\u001b[0;34m\u001b[0m\u001b[0m\n\u001b[0m\u001b[1;32m     86\u001b[0m     \u001b[0;32mreturn\u001b[0m \u001b[0mrun_globals\u001b[0m\u001b[0;34m\u001b[0m\u001b[0;34m\u001b[0m\u001b[0m\n\u001b[1;32m     87\u001b[0m \u001b[0;34m\u001b[0m\u001b[0m\n",
      "\u001b[0;32m/usr/local/lib/python3.6/dist-packages/ipykernel_launcher.py\u001b[0m in \u001b[0;36m<module>\u001b[0;34m\u001b[0m\n\u001b[1;32m     14\u001b[0m \u001b[0;34m\u001b[0m\u001b[0m\n\u001b[1;32m     15\u001b[0m     \u001b[0;32mfrom\u001b[0m \u001b[0mipykernel\u001b[0m \u001b[0;32mimport\u001b[0m \u001b[0mkernelapp\u001b[0m \u001b[0;32mas\u001b[0m \u001b[0mapp\u001b[0m\u001b[0;34m\u001b[0m\u001b[0;34m\u001b[0m\u001b[0m\n\u001b[0;32m---> 16\u001b[0;31m     \u001b[0mapp\u001b[0m\u001b[0;34m.\u001b[0m\u001b[0mlaunch_new_instance\u001b[0m\u001b[0;34m(\u001b[0m\u001b[0;34m)\u001b[0m\u001b[0;34m\u001b[0m\u001b[0;34m\u001b[0m\u001b[0m\n\u001b[0m",
      "\u001b[0;32m/usr/local/lib/python3.6/dist-packages/traitlets/config/application.py\u001b[0m in \u001b[0;36mlaunch_instance\u001b[0;34m(cls, argv, **kwargs)\u001b[0m\n\u001b[1;32m    656\u001b[0m         \u001b[0mapp\u001b[0m \u001b[0;34m=\u001b[0m \u001b[0mcls\u001b[0m\u001b[0;34m.\u001b[0m\u001b[0minstance\u001b[0m\u001b[0;34m(\u001b[0m\u001b[0;34m**\u001b[0m\u001b[0mkwargs\u001b[0m\u001b[0;34m)\u001b[0m\u001b[0;34m\u001b[0m\u001b[0;34m\u001b[0m\u001b[0m\n\u001b[1;32m    657\u001b[0m         \u001b[0mapp\u001b[0m\u001b[0;34m.\u001b[0m\u001b[0minitialize\u001b[0m\u001b[0;34m(\u001b[0m\u001b[0margv\u001b[0m\u001b[0;34m)\u001b[0m\u001b[0;34m\u001b[0m\u001b[0;34m\u001b[0m\u001b[0m\n\u001b[0;32m--> 658\u001b[0;31m         \u001b[0mapp\u001b[0m\u001b[0;34m.\u001b[0m\u001b[0mstart\u001b[0m\u001b[0;34m(\u001b[0m\u001b[0;34m)\u001b[0m\u001b[0;34m\u001b[0m\u001b[0;34m\u001b[0m\u001b[0m\n\u001b[0m\u001b[1;32m    659\u001b[0m \u001b[0;34m\u001b[0m\u001b[0m\n\u001b[1;32m    660\u001b[0m \u001b[0;31m#-----------------------------------------------------------------------------\u001b[0m\u001b[0;34m\u001b[0m\u001b[0;34m\u001b[0m\u001b[0;34m\u001b[0m\u001b[0m\n",
      "\u001b[0;32m/usr/local/lib/python3.6/dist-packages/ipykernel/kernelapp.py\u001b[0m in \u001b[0;36mstart\u001b[0;34m(self)\u001b[0m\n\u001b[1;32m    503\u001b[0m         \u001b[0mself\u001b[0m\u001b[0;34m.\u001b[0m\u001b[0mio_loop\u001b[0m \u001b[0;34m=\u001b[0m \u001b[0mioloop\u001b[0m\u001b[0;34m.\u001b[0m\u001b[0mIOLoop\u001b[0m\u001b[0;34m.\u001b[0m\u001b[0mcurrent\u001b[0m\u001b[0;34m(\u001b[0m\u001b[0;34m)\u001b[0m\u001b[0;34m\u001b[0m\u001b[0;34m\u001b[0m\u001b[0m\n\u001b[1;32m    504\u001b[0m         \u001b[0;32mtry\u001b[0m\u001b[0;34m:\u001b[0m\u001b[0;34m\u001b[0m\u001b[0;34m\u001b[0m\u001b[0m\n\u001b[0;32m--> 505\u001b[0;31m             \u001b[0mself\u001b[0m\u001b[0;34m.\u001b[0m\u001b[0mio_loop\u001b[0m\u001b[0;34m.\u001b[0m\u001b[0mstart\u001b[0m\u001b[0;34m(\u001b[0m\u001b[0;34m)\u001b[0m\u001b[0;34m\u001b[0m\u001b[0;34m\u001b[0m\u001b[0m\n\u001b[0m\u001b[1;32m    506\u001b[0m         \u001b[0;32mexcept\u001b[0m \u001b[0mKeyboardInterrupt\u001b[0m\u001b[0;34m:\u001b[0m\u001b[0;34m\u001b[0m\u001b[0;34m\u001b[0m\u001b[0m\n\u001b[1;32m    507\u001b[0m             \u001b[0;32mpass\u001b[0m\u001b[0;34m\u001b[0m\u001b[0;34m\u001b[0m\u001b[0m\n",
      "\u001b[0;32m/usr/local/lib/python3.6/dist-packages/tornado/platform/asyncio.py\u001b[0m in \u001b[0;36mstart\u001b[0;34m(self)\u001b[0m\n\u001b[1;32m    146\u001b[0m             \u001b[0mself\u001b[0m\u001b[0;34m.\u001b[0m\u001b[0m_setup_logging\u001b[0m\u001b[0;34m(\u001b[0m\u001b[0;34m)\u001b[0m\u001b[0;34m\u001b[0m\u001b[0;34m\u001b[0m\u001b[0m\n\u001b[1;32m    147\u001b[0m             \u001b[0masyncio\u001b[0m\u001b[0;34m.\u001b[0m\u001b[0mset_event_loop\u001b[0m\u001b[0;34m(\u001b[0m\u001b[0mself\u001b[0m\u001b[0;34m.\u001b[0m\u001b[0masyncio_loop\u001b[0m\u001b[0;34m)\u001b[0m\u001b[0;34m\u001b[0m\u001b[0;34m\u001b[0m\u001b[0m\n\u001b[0;32m--> 148\u001b[0;31m             \u001b[0mself\u001b[0m\u001b[0;34m.\u001b[0m\u001b[0masyncio_loop\u001b[0m\u001b[0;34m.\u001b[0m\u001b[0mrun_forever\u001b[0m\u001b[0;34m(\u001b[0m\u001b[0;34m)\u001b[0m\u001b[0;34m\u001b[0m\u001b[0;34m\u001b[0m\u001b[0m\n\u001b[0m\u001b[1;32m    149\u001b[0m         \u001b[0;32mfinally\u001b[0m\u001b[0;34m:\u001b[0m\u001b[0;34m\u001b[0m\u001b[0;34m\u001b[0m\u001b[0m\n\u001b[1;32m    150\u001b[0m             \u001b[0masyncio\u001b[0m\u001b[0;34m.\u001b[0m\u001b[0mset_event_loop\u001b[0m\u001b[0;34m(\u001b[0m\u001b[0mold_loop\u001b[0m\u001b[0;34m)\u001b[0m\u001b[0;34m\u001b[0m\u001b[0;34m\u001b[0m\u001b[0m\n",
      "\u001b[0;32m/usr/lib/python3.6/asyncio/base_events.py\u001b[0m in \u001b[0;36mrun_forever\u001b[0;34m(self)\u001b[0m\n\u001b[1;32m    436\u001b[0m             \u001b[0mevents\u001b[0m\u001b[0;34m.\u001b[0m\u001b[0m_set_running_loop\u001b[0m\u001b[0;34m(\u001b[0m\u001b[0mself\u001b[0m\u001b[0;34m)\u001b[0m\u001b[0;34m\u001b[0m\u001b[0;34m\u001b[0m\u001b[0m\n\u001b[1;32m    437\u001b[0m             \u001b[0;32mwhile\u001b[0m \u001b[0;32mTrue\u001b[0m\u001b[0;34m:\u001b[0m\u001b[0;34m\u001b[0m\u001b[0;34m\u001b[0m\u001b[0m\n\u001b[0;32m--> 438\u001b[0;31m                 \u001b[0mself\u001b[0m\u001b[0;34m.\u001b[0m\u001b[0m_run_once\u001b[0m\u001b[0;34m(\u001b[0m\u001b[0;34m)\u001b[0m\u001b[0;34m\u001b[0m\u001b[0;34m\u001b[0m\u001b[0m\n\u001b[0m\u001b[1;32m    439\u001b[0m                 \u001b[0;32mif\u001b[0m \u001b[0mself\u001b[0m\u001b[0;34m.\u001b[0m\u001b[0m_stopping\u001b[0m\u001b[0;34m:\u001b[0m\u001b[0;34m\u001b[0m\u001b[0;34m\u001b[0m\u001b[0m\n\u001b[1;32m    440\u001b[0m                     \u001b[0;32mbreak\u001b[0m\u001b[0;34m\u001b[0m\u001b[0;34m\u001b[0m\u001b[0m\n",
      "\u001b[0;32m/usr/lib/python3.6/asyncio/base_events.py\u001b[0m in \u001b[0;36m_run_once\u001b[0;34m(self)\u001b[0m\n\u001b[1;32m   1413\u001b[0m                            timeout * 1e3, dt * 1e3)\n\u001b[1;32m   1414\u001b[0m         \u001b[0;32melse\u001b[0m\u001b[0;34m:\u001b[0m\u001b[0;34m\u001b[0m\u001b[0;34m\u001b[0m\u001b[0m\n\u001b[0;32m-> 1415\u001b[0;31m             \u001b[0mevent_list\u001b[0m \u001b[0;34m=\u001b[0m \u001b[0mself\u001b[0m\u001b[0;34m.\u001b[0m\u001b[0m_selector\u001b[0m\u001b[0;34m.\u001b[0m\u001b[0mselect\u001b[0m\u001b[0;34m(\u001b[0m\u001b[0mtimeout\u001b[0m\u001b[0;34m)\u001b[0m\u001b[0;34m\u001b[0m\u001b[0;34m\u001b[0m\u001b[0m\n\u001b[0m\u001b[1;32m   1416\u001b[0m         \u001b[0mself\u001b[0m\u001b[0;34m.\u001b[0m\u001b[0m_process_events\u001b[0m\u001b[0;34m(\u001b[0m\u001b[0mevent_list\u001b[0m\u001b[0;34m)\u001b[0m\u001b[0;34m\u001b[0m\u001b[0;34m\u001b[0m\u001b[0m\n\u001b[1;32m   1417\u001b[0m \u001b[0;34m\u001b[0m\u001b[0m\n",
      "\u001b[0;32m/usr/lib/python3.6/selectors.py\u001b[0m in \u001b[0;36mselect\u001b[0;34m(self, timeout)\u001b[0m\n\u001b[1;32m    443\u001b[0m             \u001b[0mready\u001b[0m \u001b[0;34m=\u001b[0m \u001b[0;34m[\u001b[0m\u001b[0;34m]\u001b[0m\u001b[0;34m\u001b[0m\u001b[0;34m\u001b[0m\u001b[0m\n\u001b[1;32m    444\u001b[0m             \u001b[0;32mtry\u001b[0m\u001b[0;34m:\u001b[0m\u001b[0;34m\u001b[0m\u001b[0;34m\u001b[0m\u001b[0m\n\u001b[0;32m--> 445\u001b[0;31m                 \u001b[0mfd_event_list\u001b[0m \u001b[0;34m=\u001b[0m \u001b[0mself\u001b[0m\u001b[0;34m.\u001b[0m\u001b[0m_epoll\u001b[0m\u001b[0;34m.\u001b[0m\u001b[0mpoll\u001b[0m\u001b[0;34m(\u001b[0m\u001b[0mtimeout\u001b[0m\u001b[0;34m,\u001b[0m \u001b[0mmax_ev\u001b[0m\u001b[0;34m)\u001b[0m\u001b[0;34m\u001b[0m\u001b[0;34m\u001b[0m\u001b[0m\n\u001b[0m\u001b[1;32m    446\u001b[0m             \u001b[0;32mexcept\u001b[0m \u001b[0mInterruptedError\u001b[0m\u001b[0;34m:\u001b[0m\u001b[0;34m\u001b[0m\u001b[0;34m\u001b[0m\u001b[0m\n\u001b[1;32m    447\u001b[0m                 \u001b[0;32mreturn\u001b[0m \u001b[0mready\u001b[0m\u001b[0;34m\u001b[0m\u001b[0;34m\u001b[0m\u001b[0m\n",
      "\u001b[0;32m/usr/local/lib/python3.6/dist-packages/pyppeteer/launcher.py\u001b[0m in \u001b[0;36m_close_process\u001b[0;34m(*args, **kwargs)\u001b[0m\n\u001b[1;32m    149\u001b[0m         \u001b[0;32mdef\u001b[0m \u001b[0m_close_process\u001b[0m\u001b[0;34m(\u001b[0m\u001b[0;34m*\u001b[0m\u001b[0margs\u001b[0m\u001b[0;34m:\u001b[0m \u001b[0mAny\u001b[0m\u001b[0;34m,\u001b[0m \u001b[0;34m**\u001b[0m\u001b[0mkwargs\u001b[0m\u001b[0;34m:\u001b[0m \u001b[0mAny\u001b[0m\u001b[0;34m)\u001b[0m \u001b[0;34m->\u001b[0m \u001b[0;32mNone\u001b[0m\u001b[0;34m:\u001b[0m\u001b[0;34m\u001b[0m\u001b[0;34m\u001b[0m\u001b[0m\n\u001b[1;32m    150\u001b[0m             \u001b[0;32mif\u001b[0m \u001b[0;32mnot\u001b[0m \u001b[0mself\u001b[0m\u001b[0;34m.\u001b[0m\u001b[0mchromeClosed\u001b[0m\u001b[0;34m:\u001b[0m\u001b[0;34m\u001b[0m\u001b[0;34m\u001b[0m\u001b[0m\n\u001b[0;32m--> 151\u001b[0;31m                 \u001b[0mself\u001b[0m\u001b[0;34m.\u001b[0m\u001b[0m_loop\u001b[0m\u001b[0;34m.\u001b[0m\u001b[0mrun_until_complete\u001b[0m\u001b[0;34m(\u001b[0m\u001b[0mself\u001b[0m\u001b[0;34m.\u001b[0m\u001b[0mkillChrome\u001b[0m\u001b[0;34m(\u001b[0m\u001b[0;34m)\u001b[0m\u001b[0;34m)\u001b[0m\u001b[0;34m\u001b[0m\u001b[0;34m\u001b[0m\u001b[0m\n\u001b[0m\u001b[1;32m    152\u001b[0m \u001b[0;34m\u001b[0m\u001b[0m\n\u001b[1;32m    153\u001b[0m         \u001b[0;31m# don't forget to close browser process\u001b[0m\u001b[0;34m\u001b[0m\u001b[0;34m\u001b[0m\u001b[0;34m\u001b[0m\u001b[0m\n",
      "\u001b[0;32m/usr/lib/python3.6/asyncio/base_events.py\u001b[0m in \u001b[0;36mrun_until_complete\u001b[0;34m(self, future)\u001b[0m\n\u001b[1;32m    469\u001b[0m         \u001b[0mfuture\u001b[0m\u001b[0;34m.\u001b[0m\u001b[0madd_done_callback\u001b[0m\u001b[0;34m(\u001b[0m\u001b[0m_run_until_complete_cb\u001b[0m\u001b[0;34m)\u001b[0m\u001b[0;34m\u001b[0m\u001b[0;34m\u001b[0m\u001b[0m\n\u001b[1;32m    470\u001b[0m         \u001b[0;32mtry\u001b[0m\u001b[0;34m:\u001b[0m\u001b[0;34m\u001b[0m\u001b[0;34m\u001b[0m\u001b[0m\n\u001b[0;32m--> 471\u001b[0;31m             \u001b[0mself\u001b[0m\u001b[0;34m.\u001b[0m\u001b[0mrun_forever\u001b[0m\u001b[0;34m(\u001b[0m\u001b[0;34m)\u001b[0m\u001b[0;34m\u001b[0m\u001b[0;34m\u001b[0m\u001b[0m\n\u001b[0m\u001b[1;32m    472\u001b[0m         \u001b[0;32mexcept\u001b[0m\u001b[0;34m:\u001b[0m\u001b[0;34m\u001b[0m\u001b[0;34m\u001b[0m\u001b[0m\n\u001b[1;32m    473\u001b[0m             \u001b[0;32mif\u001b[0m \u001b[0mnew_task\u001b[0m \u001b[0;32mand\u001b[0m \u001b[0mfuture\u001b[0m\u001b[0;34m.\u001b[0m\u001b[0mdone\u001b[0m\u001b[0;34m(\u001b[0m\u001b[0;34m)\u001b[0m \u001b[0;32mand\u001b[0m \u001b[0;32mnot\u001b[0m \u001b[0mfuture\u001b[0m\u001b[0;34m.\u001b[0m\u001b[0mcancelled\u001b[0m\u001b[0;34m(\u001b[0m\u001b[0;34m)\u001b[0m\u001b[0;34m:\u001b[0m\u001b[0;34m\u001b[0m\u001b[0;34m\u001b[0m\u001b[0m\n",
      "\u001b[0;32m/usr/lib/python3.6/asyncio/base_events.py\u001b[0m in \u001b[0;36mrun_forever\u001b[0;34m(self)\u001b[0m\n\u001b[1;32m    423\u001b[0m         \u001b[0mself\u001b[0m\u001b[0;34m.\u001b[0m\u001b[0m_check_closed\u001b[0m\u001b[0;34m(\u001b[0m\u001b[0;34m)\u001b[0m\u001b[0;34m\u001b[0m\u001b[0;34m\u001b[0m\u001b[0m\n\u001b[1;32m    424\u001b[0m         \u001b[0;32mif\u001b[0m \u001b[0mself\u001b[0m\u001b[0;34m.\u001b[0m\u001b[0mis_running\u001b[0m\u001b[0;34m(\u001b[0m\u001b[0;34m)\u001b[0m\u001b[0;34m:\u001b[0m\u001b[0;34m\u001b[0m\u001b[0;34m\u001b[0m\u001b[0m\n\u001b[0;32m--> 425\u001b[0;31m             \u001b[0;32mraise\u001b[0m \u001b[0mRuntimeError\u001b[0m\u001b[0;34m(\u001b[0m\u001b[0;34m'This event loop is already running'\u001b[0m\u001b[0;34m)\u001b[0m\u001b[0;34m\u001b[0m\u001b[0;34m\u001b[0m\u001b[0m\n\u001b[0m\u001b[1;32m    426\u001b[0m         \u001b[0;32mif\u001b[0m \u001b[0mevents\u001b[0m\u001b[0;34m.\u001b[0m\u001b[0m_get_running_loop\u001b[0m\u001b[0;34m(\u001b[0m\u001b[0;34m)\u001b[0m \u001b[0;32mis\u001b[0m \u001b[0;32mnot\u001b[0m \u001b[0;32mNone\u001b[0m\u001b[0;34m:\u001b[0m\u001b[0;34m\u001b[0m\u001b[0;34m\u001b[0m\u001b[0m\n\u001b[1;32m    427\u001b[0m             raise RuntimeError(\n",
      "\u001b[0;31mRuntimeError\u001b[0m: This event loop is already running"
     ]
    },
    {
     "name": "stderr",
     "output_type": "stream",
     "text": [
      "[E:pyppeteer.connection] connection unexpectedly closed\n",
      "Task exception was never retrieved\n",
      "future: <Task finished coro=<Connection._async_send() done, defined at /usr/local/lib/python3.6/dist-packages/pyppeteer/connection.py:69> exception=InvalidStateError('invalid state',)>\n",
      "Traceback (most recent call last):\n",
      "  File \"/usr/local/lib/python3.6/dist-packages/websockets/protocol.py\", line 827, in transfer_data\n",
      "    message = await self.read_message()\n",
      "  File \"/usr/local/lib/python3.6/dist-packages/websockets/protocol.py\", line 895, in read_message\n",
      "    frame = await self.read_data_frame(max_size=self.max_size)\n",
      "  File \"/usr/local/lib/python3.6/dist-packages/websockets/protocol.py\", line 971, in read_data_frame\n",
      "    frame = await self.read_frame(max_size)\n",
      "  File \"/usr/local/lib/python3.6/dist-packages/websockets/protocol.py\", line 1051, in read_frame\n",
      "    extensions=self.extensions,\n",
      "  File \"/usr/local/lib/python3.6/dist-packages/websockets/framing.py\", line 105, in read\n",
      "    data = await reader(2)\n",
      "  File \"/usr/lib/python3.6/asyncio/streams.py\", line 672, in readexactly\n",
      "    raise IncompleteReadError(incomplete, n)\n",
      "asyncio.streams.IncompleteReadError: 0 bytes read on a total of 2 expected bytes\n",
      "\n",
      "The above exception was the direct cause of the following exception:\n",
      "\n",
      "Traceback (most recent call last):\n",
      "  File \"/usr/local/lib/python3.6/dist-packages/pyppeteer/connection.py\", line 73, in _async_send\n",
      "    await self.connection.send(msg)\n",
      "  File \"/usr/local/lib/python3.6/dist-packages/websockets/protocol.py\", line 567, in send\n",
      "    await self.write_frame(True, opcode, data)\n",
      "  File \"/usr/local/lib/python3.6/dist-packages/websockets/protocol.py\", line 1083, in write_frame\n",
      "    await self.ensure_open()\n",
      "  File \"/usr/local/lib/python3.6/dist-packages/websockets/protocol.py\", line 803, in ensure_open\n",
      "    raise self.connection_closed_exc()\n",
      "websockets.exceptions.ConnectionClosedError: code = 1006 (connection closed abnormally [internal]), no reason\n",
      "\n",
      "During handling of the above exception, another exception occurred:\n",
      "\n",
      "Traceback (most recent call last):\n",
      "  File \"/usr/local/lib/python3.6/dist-packages/pyppeteer/connection.py\", line 79, in _async_send\n",
      "    await self.dispose()\n",
      "  File \"/usr/local/lib/python3.6/dist-packages/pyppeteer/connection.py\", line 170, in dispose\n",
      "    await self._on_close()\n",
      "  File \"/usr/local/lib/python3.6/dist-packages/pyppeteer/connection.py\", line 153, in _on_close\n",
      "    f'Protocol error {cb.method}: Target closed.',  # type: ignore\n",
      "asyncio.base_futures.InvalidStateError: invalid state\n",
      "[E:pyppeteer.connection] connection unexpectedly closed\n",
      "Task exception was never retrieved\n",
      "future: <Task finished coro=<Connection._async_send() done, defined at /usr/local/lib/python3.6/dist-packages/pyppeteer/connection.py:69> exception=InvalidStateError('invalid state',)>\n",
      "Traceback (most recent call last):\n",
      "  File \"/usr/local/lib/python3.6/dist-packages/websockets/protocol.py\", line 827, in transfer_data\n",
      "    message = await self.read_message()\n",
      "  File \"/usr/local/lib/python3.6/dist-packages/websockets/protocol.py\", line 895, in read_message\n",
      "    frame = await self.read_data_frame(max_size=self.max_size)\n",
      "  File \"/usr/local/lib/python3.6/dist-packages/websockets/protocol.py\", line 971, in read_data_frame\n",
      "    frame = await self.read_frame(max_size)\n",
      "  File \"/usr/local/lib/python3.6/dist-packages/websockets/protocol.py\", line 1051, in read_frame\n",
      "    extensions=self.extensions,\n",
      "  File \"/usr/local/lib/python3.6/dist-packages/websockets/framing.py\", line 105, in read\n",
      "    data = await reader(2)\n",
      "  File \"/usr/lib/python3.6/asyncio/streams.py\", line 672, in readexactly\n",
      "    raise IncompleteReadError(incomplete, n)\n",
      "asyncio.streams.IncompleteReadError: 0 bytes read on a total of 2 expected bytes\n",
      "\n",
      "The above exception was the direct cause of the following exception:\n",
      "\n",
      "Traceback (most recent call last):\n",
      "  File \"/usr/local/lib/python3.6/dist-packages/pyppeteer/connection.py\", line 73, in _async_send\n",
      "    await self.connection.send(msg)\n",
      "  File \"/usr/local/lib/python3.6/dist-packages/websockets/protocol.py\", line 567, in send\n",
      "    await self.write_frame(True, opcode, data)\n",
      "  File \"/usr/local/lib/python3.6/dist-packages/websockets/protocol.py\", line 1083, in write_frame\n",
      "    await self.ensure_open()\n",
      "  File \"/usr/local/lib/python3.6/dist-packages/websockets/protocol.py\", line 803, in ensure_open\n",
      "    raise self.connection_closed_exc()\n",
      "websockets.exceptions.ConnectionClosedError: code = 1006 (connection closed abnormally [internal]), no reason\n",
      "\n",
      "During handling of the above exception, another exception occurred:\n",
      "\n",
      "Traceback (most recent call last):\n",
      "  File \"/usr/local/lib/python3.6/dist-packages/pyppeteer/connection.py\", line 79, in _async_send\n",
      "    await self.dispose()\n",
      "  File \"/usr/local/lib/python3.6/dist-packages/pyppeteer/connection.py\", line 170, in dispose\n",
      "    await self._on_close()\n",
      "  File \"/usr/local/lib/python3.6/dist-packages/pyppeteer/connection.py\", line 153, in _on_close\n",
      "    f'Protocol error {cb.method}: Target closed.',  # type: ignore\n",
      "asyncio.base_futures.InvalidStateError: invalid state\n",
      "[E:pyppeteer.connection] connection unexpectedly closed\n",
      "Task exception was never retrieved\n",
      "future: <Task finished coro=<Connection._async_send() done, defined at /usr/local/lib/python3.6/dist-packages/pyppeteer/connection.py:69> exception=InvalidStateError('invalid state',)>\n",
      "Traceback (most recent call last):\n",
      "  File \"/usr/local/lib/python3.6/dist-packages/websockets/protocol.py\", line 827, in transfer_data\n",
      "    message = await self.read_message()\n",
      "  File \"/usr/local/lib/python3.6/dist-packages/websockets/protocol.py\", line 895, in read_message\n",
      "    frame = await self.read_data_frame(max_size=self.max_size)\n",
      "  File \"/usr/local/lib/python3.6/dist-packages/websockets/protocol.py\", line 971, in read_data_frame\n",
      "    frame = await self.read_frame(max_size)\n",
      "  File \"/usr/local/lib/python3.6/dist-packages/websockets/protocol.py\", line 1051, in read_frame\n",
      "    extensions=self.extensions,\n",
      "  File \"/usr/local/lib/python3.6/dist-packages/websockets/framing.py\", line 105, in read\n",
      "    data = await reader(2)\n",
      "  File \"/usr/lib/python3.6/asyncio/streams.py\", line 672, in readexactly\n",
      "    raise IncompleteReadError(incomplete, n)\n",
      "asyncio.streams.IncompleteReadError: 0 bytes read on a total of 2 expected bytes\n",
      "\n",
      "The above exception was the direct cause of the following exception:\n",
      "\n",
      "Traceback (most recent call last):\n",
      "  File \"/usr/local/lib/python3.6/dist-packages/pyppeteer/connection.py\", line 73, in _async_send\n",
      "    await self.connection.send(msg)\n",
      "  File \"/usr/local/lib/python3.6/dist-packages/websockets/protocol.py\", line 555, in send\n",
      "    await self.ensure_open()\n",
      "  File \"/usr/local/lib/python3.6/dist-packages/websockets/protocol.py\", line 803, in ensure_open\n",
      "    raise self.connection_closed_exc()\n",
      "websockets.exceptions.ConnectionClosedError: code = 1006 (connection closed abnormally [internal]), no reason\n",
      "\n",
      "During handling of the above exception, another exception occurred:\n",
      "\n",
      "Traceback (most recent call last):\n",
      "  File \"/usr/local/lib/python3.6/dist-packages/pyppeteer/connection.py\", line 79, in _async_send\n",
      "    await self.dispose()\n",
      "  File \"/usr/local/lib/python3.6/dist-packages/pyppeteer/connection.py\", line 170, in dispose\n",
      "    await self._on_close()\n",
      "  File \"/usr/local/lib/python3.6/dist-packages/pyppeteer/connection.py\", line 153, in _on_close\n",
      "    f'Protocol error {cb.method}: Target closed.',  # type: ignore\n",
      "asyncio.base_futures.InvalidStateError: invalid state\n",
      "Task exception was never retrieved\n",
      "future: <Task finished coro=<Connection.dispose() done, defined at /usr/local/lib/python3.6/dist-packages/pyppeteer/connection.py:167> exception=InvalidStateError('invalid state',)>\n",
      "Traceback (most recent call last):\n",
      "  File \"/usr/local/lib/python3.6/dist-packages/pyppeteer/connection.py\", line 170, in dispose\n",
      "    await self._on_close()\n",
      "  File \"/usr/local/lib/python3.6/dist-packages/pyppeteer/connection.py\", line 153, in _on_close\n",
      "    f'Protocol error {cb.method}: Target closed.',  # type: ignore\n",
      "asyncio.base_futures.InvalidStateError: invalid state\n",
      "ERROR:root:Invalid alias: The name clear can't be aliased because it is another magic command.\n",
      "ERROR:root:Invalid alias: The name more can't be aliased because it is another magic command.\n",
      "ERROR:root:Invalid alias: The name less can't be aliased because it is another magic command.\n",
      "ERROR:root:Invalid alias: The name man can't be aliased because it is another magic command.\n"
     ]
    }
   ],
   "source": [
    "asession = AsyncHTMLSession()\n",
    "r=await asession.get(forbesMX)\n",
    "await r.html.arender(sleep=10,keep_page=True,scrolldown=5)\n",
    "soup = BeautifulSoup(r.html.html)"
   ]
  },
  {
   "cell_type": "code",
   "execution_count": null,
   "metadata": {},
   "outputs": [],
   "source": [
    "content=list()\n",
    "queue=soup.find_all(\"div\")\n",
    "\n",
    "while(len(queue)>0):\n",
    "    tag=queue.pop(0)\n",
    "    for son in tag.find_all(\"div\"):\n",
    "        tag.append(son)\n",
    "    if(\"class\" in tag.attrs):\n",
    "        if(\"entry-content\" in tag[\"class\"]):\n",
    "            content.append(tag)\n",
    "\n",
    "forbes_text=content[0]\n",
    "forbes_text"
   ]
  },
  {
   "cell_type": "code",
   "execution_count": null,
   "metadata": {},
   "outputs": [],
   "source": []
  }
 ],
 "metadata": {
  "kernelspec": {
   "display_name": "Python 3",
   "language": "python",
   "name": "python3"
  },
  "language_info": {
   "codemirror_mode": {
    "name": "ipython",
    "version": 3
   },
   "file_extension": ".py",
   "mimetype": "text/x-python",
   "name": "python",
   "nbconvert_exporter": "python",
   "pygments_lexer": "ipython3",
   "version": "3.7.6"
  }
 },
 "nbformat": 4,
 "nbformat_minor": 4
}
