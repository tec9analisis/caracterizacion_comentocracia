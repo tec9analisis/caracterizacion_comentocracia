{
 "cells": [
  {
   "cell_type": "markdown",
   "metadata": {},
   "source": [
    "# Revisión manual de aristegi noticias:\n",
    "\n",
    "Todo el contenido está guardado dentro de muchos tags del tipo\n",
    "\n",
    "```html\n",
    "<div>\n",
    "```\n",
    "\n",
    "Pero la clase que los contiene es:\n",
    "\n",
    "```html\n",
    "<div _ngcontent-wtb-c4 class=\"wrappercont\">\n",
    "```\n",
    "\n",
    "ésta tiene muchos párrafos con texto:\n",
    "\n",
    "```html\n",
    "<p>\n",
    "```\n",
    "\n",
    "# Ahora usar estas características para extraer el contenido del sitio"
   ]
  },
  {
   "cell_type": "markdown",
   "metadata": {},
   "source": [
    "## Hacer request y renderizar"
   ]
  },
  {
   "cell_type": "code",
   "execution_count": 1,
   "metadata": {},
   "outputs": [],
   "source": [
    "from bs4 import BeautifulSoup\n",
    "from requests_html import HTMLSession, AsyncHTMLSession"
   ]
  },
  {
   "cell_type": "code",
   "execution_count": 2,
   "metadata": {},
   "outputs": [],
   "source": [
    "aristegui='https://aristeguinoticias.com/0107/investigaciones-especiales/siap-un-sistema-fracturado/'\n",
    "\n",
    "headers = { \"user-agent\": \"Mozilla/5.0 (X11; Linux x86_64) AppleWebKit/537.36 (KHTML, like Gecko) Ubuntu Chromium/71.0.3578.80 Chrome/71.0.3578.80 Safari/537.36\", }"
   ]
  },
  {
   "cell_type": "code",
   "execution_count": 4,
   "metadata": {},
   "outputs": [],
   "source": [
    "asession = AsyncHTMLSession()\n",
    "r=await asession.get(aristegui)\n"
   ]
  },
  {
   "cell_type": "code",
   "execution_count": 6,
   "metadata": {},
   "outputs": [],
   "source": [
    "await r.html.arender(sleep=10,keep_page=True,scrolldown=5)"
   ]
  },
  {
   "cell_type": "markdown",
   "metadata": {},
   "source": [
    "## Convertir a BeautifulSoup"
   ]
  },
  {
   "cell_type": "code",
   "execution_count": 7,
   "metadata": {},
   "outputs": [],
   "source": [
    "#resp=r.html.raw_html\n",
    "soup = BeautifulSoup(r.html.html)"
   ]
  },
  {
   "cell_type": "markdown",
   "metadata": {},
   "source": [
    "## Encontrar el elemento que cumple con\n",
    "\n",
    "```html\n",
    "<div _ngcontent-wtb-c4 class=\"wrappercont\">\n",
    "```"
   ]
  },
  {
   "cell_type": "code",
   "execution_count": 8,
   "metadata": {},
   "outputs": [],
   "source": [
    "content=list()\n",
    "queue=soup.find_all(\"div\")\n",
    "\n",
    "while(len(queue)>0):\n",
    "    tag=queue.pop(0)\n",
    "    for son in tag.find_all(\"div\"):\n",
    "        tag.append(son)\n",
    "    if(\"class\" in tag.attrs):\n",
    "        if(\"wrappercont\" in tag[\"class\"]):\n",
    "            content.append(tag)"
   ]
  },
  {
   "cell_type": "code",
   "execution_count": 1,
   "metadata": {},
   "outputs": [
    {
     "ename": "NameError",
     "evalue": "name 'content' is not defined",
     "output_type": "error",
     "traceback": [
      "\u001b[0;31m---------------------------------------------------------------------------\u001b[0m",
      "\u001b[0;31mNameError\u001b[0m                                 Traceback (most recent call last)",
      "\u001b[0;32m<ipython-input-1-648d145972b3>\u001b[0m in \u001b[0;36m<module>\u001b[0;34m\u001b[0m\n\u001b[0;32m----> 1\u001b[0;31m \u001b[0mlen\u001b[0m\u001b[0;34m(\u001b[0m\u001b[0mcontent\u001b[0m\u001b[0;34m)\u001b[0m\u001b[0;34m\u001b[0m\u001b[0;34m\u001b[0m\u001b[0m\n\u001b[0m",
      "\u001b[0;31mNameError\u001b[0m: name 'content' is not defined"
     ]
    }
   ],
   "source": [
    "len(content)"
   ]
  },
  {
   "cell_type": "markdown",
   "metadata": {},
   "source": [
    "### Obtener los párraofs"
   ]
  },
  {
   "cell_type": "code",
   "execution_count": 10,
   "metadata": {},
   "outputs": [
    {
     "data": {
      "text/plain": [
       "[<p style=\"text-align: center;\"><strong><span style=\"font-size: 14pt; color: #bf0202;\">Steve Fisher / Quinto Elemento Lab*</span></strong></p>,\n",
       " <p style=\"text-align: left;\">Prometieron que sería <strong>la herramienta que simplificaría las investigaciones criminales en la Ciudad de México</strong>. Ofrecieron una solución digital que terminaría con la infame burocracia que ralentiza los procesos de justicia. Aseguraron que la capital tendría una <strong>plataforma</strong> para conectar peritos y policías investigadores con los ministerios públicos. Sería una fuente de información de inteligencia para prevenir el crimen.</p>,\n",
       " <p>La plataforma<strong> conectaría por primera vez a peritos y policías investigadores</strong> con los ministerios públicos a la cabeza de la investigación de delitos, distribuyendo el trabajo a las áreas de la Procuraduría alrededor de la ciudad.</p>,\n",
       " <p>El <strong>Sistema de Interoperabilidad de Actuaciones Procedimentales (SIAP)</strong> iba a cambiar el trágico curso que tienen los crímenes sin resolver en la capital.</p>,\n",
       " <p> </p>,\n",
       " <p class=\"text-center\"><a href=\"https://aristeguinoticias.com/wp-content/uploads/2020/07/xanic1.jpg\"><img alt=\"\" class=\"aligncenter wp-image-1016045\" height=\"600\" sizes=\"(max-width: 600px) 100vw, 600px\" src=\"https://aristeguinoticias.com/editorial/wp-content/uploads/2020/07/xanic1.jpg\" srcset=\"https://aristeguinoticias.com/editorial/wp-content/uploads/2020/07/xanic1.jpg 1024w, https://aristeguinoticias.com/editorial/wp-content/uploads/2020/07/xanic1-300x300.jpg 300w, https://aristeguinoticias.com/editorial/wp-content/uploads/2020/07/xanic1-150x150.jpg 150w, https://aristeguinoticias.com/editorial/wp-content/uploads/2020/07/xanic1-768x768.jpg 768w, https://aristeguinoticias.com/editorial/wp-content/uploads/2020/07/xanic1-628x628.jpg 628w, https://aristeguinoticias.com/editorial/wp-content/uploads/2020/07/xanic1-298x298.jpg 298w, https://aristeguinoticias.com/editorial/wp-content/uploads/2020/07/xanic1-295x295.jpg 295w, https://aristeguinoticias.com/editorial/wp-content/uploads/2020/07/xanic1-205x205.jpg 205w, https://aristeguinoticias.com/editorial/wp-content/uploads/2020/07/xanic1-168x168.jpg 168w, https://aristeguinoticias.com/editorial/wp-content/uploads/2020/07/xanic1-123x123.jpg 123w, https://aristeguinoticias.com/editorial/wp-content/uploads/2020/07/xanic1-400x400.jpg 400w, https://aristeguinoticias.com/editorial/wp-content/uploads/2020/07/xanic1-216x216.jpg 216w, https://aristeguinoticias.com/editorial/wp-content/uploads/2020/07/xanic1-106x106.jpg 106w, https://aristeguinoticias.com/editorial/wp-content/uploads/2020/07/xanic1-178x178.jpg 178w, https://aristeguinoticias.com/editorial/wp-content/uploads/2020/07/xanic1-55x55.jpg 55w, https://aristeguinoticias.com/editorial/wp-content/uploads/2020/07/xanic1-70x70.jpg 70w, https://aristeguinoticias.com/editorial/wp-content/uploads/2020/07/xanic1-128x128.jpg 128w, https://aristeguinoticias.com/editorial/wp-content/uploads/2020/07/xanic1-177x177.jpg 177w, https://aristeguinoticias.com/editorial/wp-content/uploads/2020/07/xanic1-120x120.jpg 120w, https://aristeguinoticias.com/editorial/wp-content/uploads/2020/07/xanic1-115x115.jpg 115w, https://aristeguinoticias.com/editorial/wp-content/uploads/2020/07/xanic1-274x274.jpg 274w, https://aristeguinoticias.com/editorial/wp-content/uploads/2020/07/xanic1-52x52.jpg 52w, https://aristeguinoticias.com/editorial/wp-content/uploads/2020/07/xanic1-74x74.jpg 74w, https://aristeguinoticias.com/editorial/wp-content/uploads/2020/07/xanic1-220x220.jpg 220w\" width=\"600\"/></a></p>,\n",
       " <p>En 2015, el gobierno de <strong>Miguel Ángel Mancera</strong> echó a andar un sistema de cómputo que desarrollaron empleados de la misma Procuraduría General de Justicia de la ciudad. El gobierno incluso recibió un <strong>premio</strong> a la mejor innovación en el sector público, un año después del debut.</p>,\n",
       " <p>Cinco años más tarde, una investigación hecha con Quinto Elemento Lab muestra que <strong>el SIAP ha tenido abundantes fallas técnicas</strong> desde el principio y que obstaculiza los esfuerzos de la policía al investigar los crímenes.</p>,\n",
       " <p>Y <strong>resolver crímenes</strong> nunca ha sido más urgente.</p>,\n",
       " <p>Este se perfila como otro año violento en al ciudad. Recién la semana pasada, <strong>un cártel atentó contra la vida del Secretario de Seguridad de la capital</strong> en un desplante de poder de fuego nunca antes visto en la capital. La impunidad con la que operan los criminales es en parte resultado de un diezmado sistema de recolección y análisis de información de inteligencia, algo que el SIAP iba a atender.</p>,\n",
       " <p>Lejos de eso, <strong>el SIAP es un sistema fragmentado que hace poco por ayudar a la policía</strong>.</p>,\n",
       " <p>El ciudadano que acude a denunciar un crimen espera que, cuando menos, <strong>su caso quede registrado en el sistema.</strong> Pero ni siquiera esto ocurre todas las veces.</p>,\n",
       " <p>Algunas partes de la investigación criminal quedan registradas en archivos de Microsoft Word o impresas en papel, pero <strong>no son capturadas en la plataforma digital,</strong> de acuerdo con documentos internos de la fiscalía y el testimonio de 15 agentes entrevistados para este reportaje.</p>,\n",
       " <p>Muchos de los<strong> agentes</strong> pidieron la omisión de sus nombres por temor a represalias en su trabajo.</p>,\n",
       " <p>El botón en el SIAP que debía dar las coordenadas de una escena del crimen -y ayudar a <strong>generar información de inteligencia</strong>-, no funciona.</p>,\n",
       " <p class=\"text-center\"><a href=\"https://aristeguinoticias.com/wp-content/uploads/2020/07/SIAP2.jpg\"><img alt=\"\" class=\"aligncenter wp-image-1016046\" height=\"600\" sizes=\"(max-width: 600px) 100vw, 600px\" src=\"https://aristeguinoticias.com/editorial/wp-content/uploads/2020/07/SIAP2.jpg\" srcset=\"https://aristeguinoticias.com/editorial/wp-content/uploads/2020/07/SIAP2.jpg 1024w, https://aristeguinoticias.com/editorial/wp-content/uploads/2020/07/SIAP2-300x300.jpg 300w, https://aristeguinoticias.com/editorial/wp-content/uploads/2020/07/SIAP2-150x150.jpg 150w, https://aristeguinoticias.com/editorial/wp-content/uploads/2020/07/SIAP2-768x768.jpg 768w, https://aristeguinoticias.com/editorial/wp-content/uploads/2020/07/SIAP2-628x628.jpg 628w, https://aristeguinoticias.com/editorial/wp-content/uploads/2020/07/SIAP2-298x298.jpg 298w, https://aristeguinoticias.com/editorial/wp-content/uploads/2020/07/SIAP2-295x295.jpg 295w, https://aristeguinoticias.com/editorial/wp-content/uploads/2020/07/SIAP2-205x205.jpg 205w, https://aristeguinoticias.com/editorial/wp-content/uploads/2020/07/SIAP2-168x168.jpg 168w, https://aristeguinoticias.com/editorial/wp-content/uploads/2020/07/SIAP2-123x123.jpg 123w, https://aristeguinoticias.com/editorial/wp-content/uploads/2020/07/SIAP2-400x400.jpg 400w, https://aristeguinoticias.com/editorial/wp-content/uploads/2020/07/SIAP2-216x216.jpg 216w, https://aristeguinoticias.com/editorial/wp-content/uploads/2020/07/SIAP2-106x106.jpg 106w, https://aristeguinoticias.com/editorial/wp-content/uploads/2020/07/SIAP2-178x178.jpg 178w, https://aristeguinoticias.com/editorial/wp-content/uploads/2020/07/SIAP2-55x55.jpg 55w, https://aristeguinoticias.com/editorial/wp-content/uploads/2020/07/SIAP2-70x70.jpg 70w, https://aristeguinoticias.com/editorial/wp-content/uploads/2020/07/SIAP2-128x128.jpg 128w, https://aristeguinoticias.com/editorial/wp-content/uploads/2020/07/SIAP2-177x177.jpg 177w, https://aristeguinoticias.com/editorial/wp-content/uploads/2020/07/SIAP2-120x120.jpg 120w, https://aristeguinoticias.com/editorial/wp-content/uploads/2020/07/SIAP2-115x115.jpg 115w, https://aristeguinoticias.com/editorial/wp-content/uploads/2020/07/SIAP2-274x274.jpg 274w, https://aristeguinoticias.com/editorial/wp-content/uploads/2020/07/SIAP2-52x52.jpg 52w, https://aristeguinoticias.com/editorial/wp-content/uploads/2020/07/SIAP2-74x74.jpg 74w, https://aristeguinoticias.com/editorial/wp-content/uploads/2020/07/SIAP2-220x220.jpg 220w\" width=\"600\"/></a></p>,\n",
       " <p>Peritos dicen que a menudo<strong> el sistema no les permite subir evidencia crucial en video</strong>; los campos destinados a la descripción de las evidencias en la escena del crimen tienen un límite prohibitivo para el número de palabras.</p>,\n",
       " <p>“<strong>Es un Frankenstein</strong>”, dijo Omar Ramos un forense en Xochimilco, “y le faltan pedazos”.</p>,\n",
       " <p>Hasta 2019, cada día se capturaban en el sistema, en promedio, <strong>728 crímenes nuevos.</strong> Miles de agentes entran a la plataforma con usuario y contraseña.</p>,\n",
       " <p>Pero con frecuencia, la información que resulta de su trabajo de investigación ya no entra al SIAP y el seguimiento electrónico de los casos queda incompleto. En lugar de eso,<strong> la información de las investigaciones viaja en los USB</strong> y memorias externas de los propios agentes, según las fuentes consultadas.</p>,\n",
       " <p>Y el SIAP<strong> a menudo falla</strong>.</p>,\n",
       " <p>Documentos a los que se tuvo acceso indican que los agentes han reportados fallas miles de veces desde el lanzamiento de la plataforma.</p>,\n",
       " <p><script src=\"//assets.documentcloud.org/viewer/loader.js\"></script><br/>\n",
       " <script>\n",
       "   DV.load(\"https://www.documentcloud.org/documents/6959102-Fallas-Reportadas-Por-Llamada-Sobre-El-SIAP.js\", {\n",
       "   responsive: true,\n",
       "     container: \"#DV-viewer-6959102-Fallas-Reportadas-Por-Llamada-Sobre-El-SIAP\"\n",
       "   });\n",
       " </script><br/>\n",
       " <noscript><br/>\n",
       " <a href=\"https://assets.documentcloud.org/documents/6959102/Fallas-Reportadas-Por-Llamada-Sobre-El-SIAP.pdf\">Fallas Reportadas Por Llamada Sobre El SIAP (PDF)</a></noscript></p>,\n",
       " <p><a href=\"https://assets.documentcloud.org/documents/6959102/Fallas-Reportadas-Por-Llamada-Sobre-El-SIAP.txt\">Fallas Reportadas Por Llamada Sobre El SIAP (Text)</a><br/>\n",
       " </p>,\n",
       " <p>El análisis de cientos de miles de casos en una base de datos consultada revela que <strong>los agentes han reportado regularmente fallas que les impiden subir los reportes de sus investigaciones</strong>, descripciones de la evidencia, videos relacionados con la escena del crimen e, incluso, su firma electrónica -con la que dan validez legal a sus reportes.</p>,\n",
       " <p>De acuerdo con la<strong> base de datos</strong>, los agentes notaron fallas en el uso del SIAP<strong> más de 11 mil veces entre 2015 y 2018</strong>. Es decir, siete veces al día en promedio en ese periodo.</p>,\n",
       " <p class=\"text-center\"><a href=\"https://aristeguinoticias.com/wp-content/uploads/2020/07/SIAP3.jpg\"><img alt=\"\" class=\"aligncenter wp-image-1016047\" height=\"600\" sizes=\"(max-width: 600px) 100vw, 600px\" src=\"https://aristeguinoticias.com/editorial/wp-content/uploads/2020/07/SIAP3.jpg\" srcset=\"https://aristeguinoticias.com/editorial/wp-content/uploads/2020/07/SIAP3.jpg 1024w, https://aristeguinoticias.com/editorial/wp-content/uploads/2020/07/SIAP3-300x300.jpg 300w, https://aristeguinoticias.com/editorial/wp-content/uploads/2020/07/SIAP3-150x150.jpg 150w, https://aristeguinoticias.com/editorial/wp-content/uploads/2020/07/SIAP3-768x768.jpg 768w, https://aristeguinoticias.com/editorial/wp-content/uploads/2020/07/SIAP3-628x628.jpg 628w, https://aristeguinoticias.com/editorial/wp-content/uploads/2020/07/SIAP3-298x298.jpg 298w, https://aristeguinoticias.com/editorial/wp-content/uploads/2020/07/SIAP3-295x295.jpg 295w, https://aristeguinoticias.com/editorial/wp-content/uploads/2020/07/SIAP3-205x205.jpg 205w, https://aristeguinoticias.com/editorial/wp-content/uploads/2020/07/SIAP3-168x168.jpg 168w, https://aristeguinoticias.com/editorial/wp-content/uploads/2020/07/SIAP3-123x123.jpg 123w, https://aristeguinoticias.com/editorial/wp-content/uploads/2020/07/SIAP3-400x400.jpg 400w, https://aristeguinoticias.com/editorial/wp-content/uploads/2020/07/SIAP3-216x216.jpg 216w, https://aristeguinoticias.com/editorial/wp-content/uploads/2020/07/SIAP3-106x106.jpg 106w, https://aristeguinoticias.com/editorial/wp-content/uploads/2020/07/SIAP3-178x178.jpg 178w, https://aristeguinoticias.com/editorial/wp-content/uploads/2020/07/SIAP3-55x55.jpg 55w, https://aristeguinoticias.com/editorial/wp-content/uploads/2020/07/SIAP3-70x70.jpg 70w, https://aristeguinoticias.com/editorial/wp-content/uploads/2020/07/SIAP3-128x128.jpg 128w, https://aristeguinoticias.com/editorial/wp-content/uploads/2020/07/SIAP3-177x177.jpg 177w, https://aristeguinoticias.com/editorial/wp-content/uploads/2020/07/SIAP3-120x120.jpg 120w, https://aristeguinoticias.com/editorial/wp-content/uploads/2020/07/SIAP3-115x115.jpg 115w, https://aristeguinoticias.com/editorial/wp-content/uploads/2020/07/SIAP3-274x274.jpg 274w, https://aristeguinoticias.com/editorial/wp-content/uploads/2020/07/SIAP3-52x52.jpg 52w, https://aristeguinoticias.com/editorial/wp-content/uploads/2020/07/SIAP3-74x74.jpg 74w, https://aristeguinoticias.com/editorial/wp-content/uploads/2020/07/SIAP3-220x220.jpg 220w\" width=\"600\"/></a></p>,\n",
       " <p>Y ese número no incluye las miles de menciones a otro tipo de problemas como que <strong>aún no tenían el SIAP instalado en esa oficina</strong> o no estaba actualizado o había problemas para ingresar con su usuario y contraseña.</p>,\n",
       " <p>Otros <a href=\"https://www.documentcloud.org/documents/6959102-Fallas-Reportadas-Por-Llamada-Sobre-El-SIAP.html\">documentos públicos</a> obtenidos vía solicitudes de Transparencia, muestran que<strong> el equipo de soporte técnico del SIAP atendió mil 831 llamadas reportando fallas</strong>, entre enero de 2015 y diciembre de 2019. En promedio, recibieron una llamada al día con un reporte de falla.</p>,\n",
       " <p><noscript><br data-mce-bogus=\"1\"/></noscript><noscript><br data-mce-bogus=\"1\"/></noscript><noscript><br/>\n",
       " <a href=\"https://assets.documentcloud.org/documents/6959102/Fallas-Reportadas-Por-Llamada-Sobre-El-SIAP.pdf\">Fallas Reportadas Por Llamada Sobre El SIAP (PDF)</a></noscript></p>,\n",
       " <p><a href=\"https://assets.documentcloud.org/documents/6959102/Fallas-Reportadas-Por-Llamada-Sobre-El-SIAP.txt\">Fallas Reportadas Por Llamada Sobre El SIAP (Text)</a><br/>\n",
       " </p>,\n",
       " <p>El gobierno de<strong> Claudia Sheinbaum heredó la plataforma</strong>, pero no la ha reparado.</p>,\n",
       " <p>Un funcionario cercano al SIAP dijo que<strong> está en desarrollo un nuevo sistema</strong>. La Fiscalía no lo ha anunciado y no atendió a las solicitudes de entrevista.</p>,\n",
       " <p>Entretanto, el SIAP falla tan a menudo que el gobierno de la ciudad publicó un <a href=\"https://data.consejeria.cdmx.gob.mx/portal_old/uploads/gacetas/ed15de3c2761bd1f1f8ee1a552a80895.pdf\">Acuerdo</a> que autoriza a los agentes a mandar sus reportes “utilizando cualquier herramienta de edición de texto”. Por esa razón muchos agentes deciden entregar sus reportes como antes, impresos.</p>,\n",
       " <p>Pero aún si el SIAP operara bien, las computadoras que tienen en la Fiscalía apenas podrían correr el programa.</p>,\n",
       " <p>Las computadoras de las diversas áreas de la Fiscalía son tan anticuadas que abrir un archivo de Word ya es un desafío; más aún ingresar al servidor.</p>,\n",
       " <p>El resultado es <strong>un sistema de investigación criminal mal coordinado</strong> que retrasa o que, incluso, deja los casos sin resolver por falta de información.</p>,\n",
       " <p class=\"text-center\"><a href=\"https://aristeguinoticias.com/wp-content/uploads/2020/07/policía_cdmx_computadora.jpeg\"><img alt=\"\" class=\"aligncenter wp-image-1016066\" height=\"400\" sizes=\"(max-width: 600px) 100vw, 600px\" src=\"https://aristeguinoticias.com/editorial/wp-content/uploads/2020/07/policía_cdmx_computadora.jpeg\" srcset=\"https://aristeguinoticias.com/editorial/wp-content/uploads/2020/07/policía_cdmx_computadora.jpeg 1920w, https://aristeguinoticias.com/editorial/wp-content/uploads/2020/07/policía_cdmx_computadora-300x200.jpeg 300w, https://aristeguinoticias.com/editorial/wp-content/uploads/2020/07/policía_cdmx_computadora-1024x683.jpeg 1024w, https://aristeguinoticias.com/editorial/wp-content/uploads/2020/07/policía_cdmx_computadora-768x512.jpeg 768w, https://aristeguinoticias.com/editorial/wp-content/uploads/2020/07/policía_cdmx_computadora-628x419.jpeg 628w, https://aristeguinoticias.com/editorial/wp-content/uploads/2020/07/policía_cdmx_computadora-298x199.jpeg 298w, https://aristeguinoticias.com/editorial/wp-content/uploads/2020/07/policía_cdmx_computadora-295x197.jpeg 295w, https://aristeguinoticias.com/editorial/wp-content/uploads/2020/07/policía_cdmx_computadora-205x137.jpeg 205w, https://aristeguinoticias.com/editorial/wp-content/uploads/2020/07/policía_cdmx_computadora-1536x1024.jpeg 1536w, https://aristeguinoticias.com/editorial/wp-content/uploads/2020/07/policía_cdmx_computadora-252x168.jpeg 252w, https://aristeguinoticias.com/editorial/wp-content/uploads/2020/07/policía_cdmx_computadora-185x123.jpeg 185w, https://aristeguinoticias.com/editorial/wp-content/uploads/2020/07/policía_cdmx_computadora-600x400.jpeg 600w, https://aristeguinoticias.com/editorial/wp-content/uploads/2020/07/policía_cdmx_computadora-324x216.jpeg 324w, https://aristeguinoticias.com/editorial/wp-content/uploads/2020/07/policía_cdmx_computadora-159x106.jpeg 159w, https://aristeguinoticias.com/editorial/wp-content/uploads/2020/07/policía_cdmx_computadora-267x178.jpeg 267w, https://aristeguinoticias.com/editorial/wp-content/uploads/2020/07/policía_cdmx_computadora-83x55.jpeg 83w, https://aristeguinoticias.com/editorial/wp-content/uploads/2020/07/policía_cdmx_computadora-105x70.jpeg 105w, https://aristeguinoticias.com/editorial/wp-content/uploads/2020/07/policía_cdmx_computadora-192x128.jpeg 192w, https://aristeguinoticias.com/editorial/wp-content/uploads/2020/07/policía_cdmx_computadora-266x177.jpeg 266w, https://aristeguinoticias.com/editorial/wp-content/uploads/2020/07/policía_cdmx_computadora-173x115.jpeg 173w, https://aristeguinoticias.com/editorial/wp-content/uploads/2020/07/policía_cdmx_computadora-411x274.jpeg 411w, https://aristeguinoticias.com/editorial/wp-content/uploads/2020/07/policía_cdmx_computadora-78x52.jpeg 78w, https://aristeguinoticias.com/editorial/wp-content/uploads/2020/07/policía_cdmx_computadora-74x49.jpeg 74w, https://aristeguinoticias.com/editorial/wp-content/uploads/2020/07/policía_cdmx_computadora-330x220.jpeg 330w\" width=\"600\"/></a></p>,\n",
       " <p>El hecho de que la información de los casos esté dispersa en oficinas alrededor de la ciudad, sin una coordinación central, obstaculiza el trabajo de inteligencia. Los<em> hotspots</em> del crimen que podrían ser descubiertos, quedan sin ser identificados. Y <strong>la información acerca de delincuentes que reinciden está dispersa o fuera del alcance de los agentes</strong>. El resultado es que muchos delincuentes quedan impunes.</p>,\n",
       " <p>La Ciudad de México registró<strong> 560 homicidios en los primeros seis meses del año</strong>, a pesar de la cuarentena obligada por Covid-19.</p>,\n",
       " <p>La historia sugiere que muchos de estos crímenes quedarán sin resolver. Un <strong>94.5 por ciento de los crímenes</strong> que ocurrieron en la capital en 2018 quedaron en la impunidad indica un reporte de la organización <a href=\"https://www.mexicoevalua.org/mexicoevalua/wp-content/uploads/2019/08/Presentacion_Hallazgos2018.pdf\">México Evalúa</a>.</p>,\n",
       " <p>Los policías de investigación y ministerios públicos a menudo tienen pocas herramientas con qué hacer sus investigaciones y son creativos porque <strong>los crímenes no pueden esperar a que el sistema funcione</strong>.</p>,\n",
       " <p>“Yo no le puedo decir al denunciante: ‘oiga, mire discúlpame, venga mañana o venga pasado mañana porque el sistema no funcionó’. ¿Sí me explico?’”, dijo un policía de investigación que ha trabajado más de 10 años en la dependencia. “Yo <strong>debo resolver en ese momento</strong>. Entonces, yo tengo que empezar a tomar los registros de las entrevistas de la persona en sistema Word”.</p>,\n",
       " <p class=\"text-center\"><a href=\"https://aristeguinoticias.com/wp-content/uploads/2020/07/SIAP4.jpg\"><img alt=\"\" class=\"aligncenter wp-image-1016049\" height=\"600\" sizes=\"(max-width: 600px) 100vw, 600px\" src=\"https://aristeguinoticias.com/editorial/wp-content/uploads/2020/07/SIAP4.jpg\" srcset=\"https://aristeguinoticias.com/editorial/wp-content/uploads/2020/07/SIAP4.jpg 1024w, https://aristeguinoticias.com/editorial/wp-content/uploads/2020/07/SIAP4-300x300.jpg 300w, https://aristeguinoticias.com/editorial/wp-content/uploads/2020/07/SIAP4-150x150.jpg 150w, https://aristeguinoticias.com/editorial/wp-content/uploads/2020/07/SIAP4-768x768.jpg 768w, https://aristeguinoticias.com/editorial/wp-content/uploads/2020/07/SIAP4-628x628.jpg 628w, https://aristeguinoticias.com/editorial/wp-content/uploads/2020/07/SIAP4-298x298.jpg 298w, https://aristeguinoticias.com/editorial/wp-content/uploads/2020/07/SIAP4-295x295.jpg 295w, https://aristeguinoticias.com/editorial/wp-content/uploads/2020/07/SIAP4-205x205.jpg 205w, https://aristeguinoticias.com/editorial/wp-content/uploads/2020/07/SIAP4-168x168.jpg 168w, https://aristeguinoticias.com/editorial/wp-content/uploads/2020/07/SIAP4-123x123.jpg 123w, https://aristeguinoticias.com/editorial/wp-content/uploads/2020/07/SIAP4-400x400.jpg 400w, https://aristeguinoticias.com/editorial/wp-content/uploads/2020/07/SIAP4-216x216.jpg 216w, https://aristeguinoticias.com/editorial/wp-content/uploads/2020/07/SIAP4-106x106.jpg 106w, https://aristeguinoticias.com/editorial/wp-content/uploads/2020/07/SIAP4-178x178.jpg 178w, https://aristeguinoticias.com/editorial/wp-content/uploads/2020/07/SIAP4-55x55.jpg 55w, https://aristeguinoticias.com/editorial/wp-content/uploads/2020/07/SIAP4-70x70.jpg 70w, https://aristeguinoticias.com/editorial/wp-content/uploads/2020/07/SIAP4-128x128.jpg 128w, https://aristeguinoticias.com/editorial/wp-content/uploads/2020/07/SIAP4-177x177.jpg 177w, https://aristeguinoticias.com/editorial/wp-content/uploads/2020/07/SIAP4-120x120.jpg 120w, https://aristeguinoticias.com/editorial/wp-content/uploads/2020/07/SIAP4-115x115.jpg 115w, https://aristeguinoticias.com/editorial/wp-content/uploads/2020/07/SIAP4-274x274.jpg 274w, https://aristeguinoticias.com/editorial/wp-content/uploads/2020/07/SIAP4-52x52.jpg 52w, https://aristeguinoticias.com/editorial/wp-content/uploads/2020/07/SIAP4-74x74.jpg 74w, https://aristeguinoticias.com/editorial/wp-content/uploads/2020/07/SIAP4-220x220.jpg 220w\" width=\"600\"/></a></p>,\n",
       " <p>Eso <strong>vuelve el combate al crimen aún más difícil</strong>, dice Ramón Bernal, un ex policía de investigación de la ciudad que lidera un movimiento nacional en defensa de los derechos humanos de los policías.</p>,\n",
       " <p>“Esa información se queda en la computadora del agente, pero no llega a las áreas de inteligencia donde se tienen que analizar todo los delitos”, dijo Bernal. “Entonces, ya es más difícil acabar con los grupos de crimen organizado o con los grupos que se dedican a algún tipo de delito; ya no se sabe dónde están operando dado que <strong>el informe no llegó a las áreas de inteligencia</strong>”.</p>,\n",
       " <p class=\"text-center\"><a href=\"https://aristeguinoticias.com/wp-content/uploads/2020/07/policia_crimen_cdmx.jpg\"><img alt=\"\" class=\"aligncenter wp-image-1016059\" height=\"375\" sizes=\"(max-width: 600px) 100vw, 600px\" src=\"https://aristeguinoticias.com/editorial/wp-content/uploads/2020/07/policia_crimen_cdmx.jpg\" srcset=\"https://aristeguinoticias.com/editorial/wp-content/uploads/2020/07/policia_crimen_cdmx.jpg 1024w, https://aristeguinoticias.com/editorial/wp-content/uploads/2020/07/policia_crimen_cdmx-300x188.jpg 300w, https://aristeguinoticias.com/editorial/wp-content/uploads/2020/07/policia_crimen_cdmx-768x480.jpg 768w, https://aristeguinoticias.com/editorial/wp-content/uploads/2020/07/policia_crimen_cdmx-628x393.jpg 628w, https://aristeguinoticias.com/editorial/wp-content/uploads/2020/07/policia_crimen_cdmx-298x186.jpg 298w, https://aristeguinoticias.com/editorial/wp-content/uploads/2020/07/policia_crimen_cdmx-295x184.jpg 295w, https://aristeguinoticias.com/editorial/wp-content/uploads/2020/07/policia_crimen_cdmx-205x128.jpg 205w, https://aristeguinoticias.com/editorial/wp-content/uploads/2020/07/policia_crimen_cdmx-269x168.jpg 269w, https://aristeguinoticias.com/editorial/wp-content/uploads/2020/07/policia_crimen_cdmx-197x123.jpg 197w, https://aristeguinoticias.com/editorial/wp-content/uploads/2020/07/policia_crimen_cdmx-640x400.jpg 640w, https://aristeguinoticias.com/editorial/wp-content/uploads/2020/07/policia_crimen_cdmx-346x216.jpg 346w, https://aristeguinoticias.com/editorial/wp-content/uploads/2020/07/policia_crimen_cdmx-170x106.jpg 170w, https://aristeguinoticias.com/editorial/wp-content/uploads/2020/07/policia_crimen_cdmx-285x178.jpg 285w, https://aristeguinoticias.com/editorial/wp-content/uploads/2020/07/policia_crimen_cdmx-88x55.jpg 88w, https://aristeguinoticias.com/editorial/wp-content/uploads/2020/07/policia_crimen_cdmx-112x70.jpg 112w, https://aristeguinoticias.com/editorial/wp-content/uploads/2020/07/policia_crimen_cdmx-283x177.jpg 283w, https://aristeguinoticias.com/editorial/wp-content/uploads/2020/07/policia_crimen_cdmx-184x115.jpg 184w, https://aristeguinoticias.com/editorial/wp-content/uploads/2020/07/policia_crimen_cdmx-438x274.jpg 438w, https://aristeguinoticias.com/editorial/wp-content/uploads/2020/07/policia_crimen_cdmx-83x52.jpg 83w, https://aristeguinoticias.com/editorial/wp-content/uploads/2020/07/policia_crimen_cdmx-74x46.jpg 74w, https://aristeguinoticias.com/editorial/wp-content/uploads/2020/07/policia_crimen_cdmx-352x220.jpg 352w\" width=\"600\"/></a></p>,\n",
       " <p>La presente administración identificó problemas sistémicos en la plataforma en <a href=\"https://www.congresocdmx.gob.mx/archivos/com-justicia/Modelo-FGJ_cdmx.pdf\">una revisión que realizó</a> en 2019 y determinó que<strong> el SIAP está mal construido</strong> y carece de funciones importantes.</p>,\n",
       " <p>“Esta herramienta <strong>funciona como un repositorio de información</strong> y no como una herramienta de gestión de procesos”, se lee en el reporte. “Lo anterior genera que sea muy difícil para la PGJ controlar la operación”.</p>,\n",
       " <p>El reporte identificó que las deficiencias en el sistema <strong>pueden tener un impacto incluso en la precisión de la estadística</strong> criminal que la Fiscalía hace pública cada mes y que sale del SIAP.</p>,\n",
       " <p>El documento recomienda contar con <strong>un nuevo sistema</strong>.</p>,\n",
       " <p>Pero aún si realizaran cambios,<strong> las computadoras que usan los policías de investigación son viejas</strong> y muchas apenas funcionan.</p>,\n",
       " <p><script src=\"//assets.documentcloud.org/viewer/loader.js\"></script><br/>\n",
       " <script>\n",
       "   DV.load(\"https://www.documentcloud.org/documents/6959101-Tipo-De-Compus-Y-Cantidad.js\", {\n",
       "   responsive: true,\n",
       "     container: \"#DV-viewer-6959101-Tipo-De-Compus-Y-Cantidad\"\n",
       "   });\n",
       " </script><br/>\n",
       " <noscript><br/>\n",
       " <a href=\"https://assets.documentcloud.org/documents/6959101/Tipo-De-Compus-Y-Cantidad.pdf\">Tipo De Compus Y Cantidad (PDF)</a></noscript></p>,\n",
       " <p><a href=\"https://assets.documentcloud.org/documents/6959101/Tipo-De-Compus-Y-Cantidad.txt\">Tipo De Compus Y Cantidad (Text)</a><br/>\n",
       " </p>,\n",
       " <p>Según registros obtenidos vía Transparencia, más de <a href=\"https://www.documentcloud.org/documents/6959101-Tipo-De-Compus-Y-Cantidad.html\">80 por ciento</a> de las computadoras de escritorio que usan en la Fiscalía operan con <strong>Windows 7</strong>, un sistema operativo de 2009. El otro 20 por ciento funciona con <strong>Windows 10</strong>, del 2015.</p>,\n",
       " <p><noscript><br/>\n",
       " <a href=\"https://assets.documentcloud.org/documents/6959101/Tipo-De-Compus-Y-Cantidad.pdf\">Tipo De Compus Y Cantidad (PDF)</a></noscript></p>,\n",
       " <p><a href=\"https://assets.documentcloud.org/documents/6959101/Tipo-De-Compus-Y-Cantidad.txt\">Tipo De Compus Y Cantidad (Text)</a><br/>\n",
       " </p>,\n",
       " <p>Un agente que trabaja en el cuartel de la Fiscalía en Álvaro Obregón dijo que <strong>es difícil abrir casi cualquier programa</strong> en sus computadoras, mucho más una plataforma pesada como SIAP.</p>,\n",
       " <p>“La computadora <strong>se congela</strong> si trato de abrir un archivo de Word”, dijo.</p>,\n",
       " <p>En una visita a sus oficinas, un agente intentó mostrar las funciones de SIAP y <strong>el programa nunca cargó</strong>.</p>,\n",
       " <p>Los agentes no confían en las computadoras para almacenar la información de los casos así que la <strong>llevan consigo en dispositivos USB</strong> u otras memorias externas, confirmaron varios oficiales. Esto también les permite hacer lo que el SIAP no facilita: hacer cruces de información de casos y patrones de delincuentes.</p>,\n",
       " <p>Detectar patrones en <strong>el actuar de un presunto criminal</strong> es un gran desafío, dijo un policía de investigación que trabaja en El Búnker, como llaman a las oficinas centrales de la Fiscalía.</p>,\n",
       " <p>“El problema es que yo hago un informe en Word con el mismo sujeto que robó dos días en otro lugar, que también (tiene un) informe en Word”, dijo. “Entonces, <strong>esa información nunca se va a poder cruzar digitalmente,</strong> porque no ha sido subida; tú estás a ciegas, solamente tienes lo que el denunciante te está dando en ese momento”.</p>,\n",
       " <p>Las investigaciones<strong> languidecen</strong> por la falta de acceso a información.</p>,\n",
       " <p>El agente que trabaja en El Búnker dijo que<strong> pierde horas buscando información de un caso</strong> y que a menudo debe cruzar la ciudad para encontrar los registros en la oficina de un ministerio público. Si es que está disponible.</p>,\n",
       " <p>“A veces la gente está de vacaciones”, añadió.</p>,\n",
       " <p>El trabajo de los peritos también se ve <strong>obstaculizado por SIAP</strong>.</p>,\n",
       " <p>“El video es la reina de las evidencias”, dijo otro agente. Pero <strong>el SIAP a menudo falla al cargar estos archivos</strong>, coincidieron otros oficiales. Un perito que trabaja al sur de la capital comentó que el sistema se congela casi cada vez al final de su turno.</p>,\n",
       " <p>“Muchas veces tardamos horas en mandar nuestra carga de trabajo” dijo. “Llega a ser muy, muy tedioso y muy cansado estar repitiendo procedimientos”.</p>,\n",
       " <p>El gobierno sí lanzó una nueva versión del SIAP a fines de mayo, a la que llamó F-SIAP, con ajustes que responden a una serie de cambios en la estructura de la Fiscalía. Pero las fuentes dicen que <strong>los problemas persisten</strong>.</p>,\n",
       " <p>La Fiscalía continúa haciendo crecer al sistema. En colaboración con el Poder Judicial de la Ciudad de México comenzó un <a href=\"https://www.poderjudicialcdmx.gob.mx/presidente_22102019/\">“<strong>Plan de Interconexión Tecnológica de la Información”</strong></a>, con SIAP al centro de la iniciativa. Los agentes ahora podrían -en teoría- solicitar órdenes de detención, cateos y vinculaciones a proceso, vía SIAP.</p>,\n",
       " <p>“Lo importante de todo esto es que <strong>nos permitirá ir a los juicios en línea</strong>”, declaró Rafael Guerra Álvarez, presidente del Tribunal de Justicia, en el evento de presentación de la iniciativa, en octubre de 2019.</p>,\n",
       " <p>Y la procuradora Ernestina Godoy estuvo de acuerdo. Esto pone al Tribunal y a la Procuraduría <strong>a la vanguardia</strong>, dijo en una rueda de prensa.</p>,\n",
       " <p>Documentos de la Fiscalía indican que su área de soporte técnico recibió siete llamadas con reportes de fallas del SIAP este mes del anuncio conjunto.</p>,\n",
       " <p></p>,\n",
       " <p><em>* Contribuyeron con esta investigación: Yosune Chamizo, análisis de datos y diseño de la información (2019); Spaceshiplabs, desarrollo y análisis de datos; Omar Bobadilla, desarrollo de mapas exploratorio y diseño gráfico. Efraín Tzuc y Diego Martorell, análisis de datos. Quinto Elemento Lab es una organización sin fines de lucro que hace e impulsa el periodismo de investigación en México. Steve Fisher es un reportero de investigación freelance establecido en México.</em></p>]"
      ]
     },
     "execution_count": 10,
     "metadata": {},
     "output_type": "execute_result"
    }
   ],
   "source": [
    "cont=content[0]\n",
    "p=cont.find_all(\"p\")\n",
    "p"
   ]
  }
 ],
 "metadata": {
  "kernelspec": {
   "display_name": "Python 3",
   "language": "python",
   "name": "python3"
  },
  "language_info": {
   "codemirror_mode": {
    "name": "ipython",
    "version": 3
   },
   "file_extension": ".py",
   "mimetype": "text/x-python",
   "name": "python",
   "nbconvert_exporter": "python",
   "pygments_lexer": "ipython3",
   "version": "3.7.6"
  }
 },
 "nbformat": 4,
 "nbformat_minor": 4
}
