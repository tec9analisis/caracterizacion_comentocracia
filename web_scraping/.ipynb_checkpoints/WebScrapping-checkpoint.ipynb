{
 "cells": [
  {
   "cell_type": "code",
   "execution_count": 1,
   "metadata": {
    "colab": {},
    "colab_type": "code",
    "id": "3J0QLEQC8DY8"
   },
   "outputs": [],
   "source": [
    "#Librerias para poder interactuar con la www/http\n",
    "#https://towardsdatascience.com/how-to-web-scrape-with-python-in-4-minutes-bc49186a8460\n",
    "\n",
    "import requests\n",
    "import urllib.request\n",
    "import time\n",
    "from bs4 import BeautifulSoup"
   ]
  },
  {
   "cell_type": "code",
   "execution_count": 2,
   "metadata": {
    "colab": {
     "base_uri": "https://localhost:8080/",
     "height": 85
    },
    "colab_type": "code",
    "id": "-kaiEMnG8sSQ",
    "outputId": "6bca5ae6-5f5e-44cd-dd79-f413eb29331e"
   },
   "outputs": [],
   "source": [
    "#Almcenamos las url que nos interesa investigar\n",
    "url_list = [\"https://cnnespanol.cnn.com/video/lopez-gatell-uso-cubrebocas-contagio-coronavirus-prevencion-covid19-perspectivas-mexico/\",\n",
    "            \"https://www.tvnotas.com.mx/noticias-noticias-mexico/lopez-gatell-se-esta-reduciendo-la-velocidad-de-crecimiento-de-la-epidemia\",\n",
    "            \"https://www.meganoticias.mx/cdmx/noticia/no-hay-enconos-con-los-gobernadores-lopez-gatell/164794\",\n",
    "            \"https://www.informador.mx/ideas/Se-debe-investigar-a-Lopez-Gatell-20200706-0009.html\"]\n"
   ]
  },
  {
   "cell_type": "code",
   "execution_count": 3,
   "metadata": {
    "colab": {},
    "colab_type": "code",
    "id": "CkiZq15h97hb"
   },
   "outputs": [],
   "source": [
    "#Obtenemos el html de la página web que contiene la lista\n",
    "soup_list = []\n",
    "reponse_list = []\n",
    "for url in url_list:\n",
    "  aux = requests.get(url)\n",
    "  reponse_list.append(requests.get(url))\n",
    "  soup_list.append(BeautifulSoup(aux.text, \"html.parser\"))"
   ]
  },
  {
   "cell_type": "code",
   "execution_count": 4,
   "metadata": {
    "colab": {
     "base_uri": "https://localhost:8080/",
     "height": 102
    },
    "colab_type": "code",
    "id": "hIv8nPeW-FPu",
    "outputId": "a7d7547c-a649-4e44-a40a-bca9f3dffa29"
   },
   "outputs": [
    {
     "name": "stdout",
     "output_type": "stream",
     "text": [
      "<title>Subsecretario de Salud de México ahora sí recomienda uso de cubrebocas en espacios públicos – CNN</title>\n",
      "<title>López-Gatell: Se está reduciendo la velocidad de crecimiento de la epidemia | TVNotas ¡Irresistible!</title>\n",
      "<title>No hay enconos con los gobernadores: López Gatell - MEGANOTICIAS</title>\n",
      "<title>Se debe investigar a López-Gatell | El Informador :: Noticias de Jalisco, México, Deportes &amp; Entretenimiento</title>\n"
     ]
    }
   ],
   "source": [
    "#Podemos ahora manipular la página web en función de las etiquetas de HTML\n",
    "#Vamos a imprimir el título de cada uno de los noticieros que se agregaron a la lista\n",
    "for indice in range(len(soup_list)):\n",
    "  print(soup_list[indice]('title')[0])"
   ]
  },
  {
   "cell_type": "markdown",
   "metadata": {
    "colab_type": "text",
    "id": "-MZuCbefCIam"
   },
   "source": [
    "Un <b>HTML</b> es un lenguaje de etiquetas. \n",
    "HTML sólo es la estructura de la página web, es decir, esta contiene el texto de la página y las instrucciones necesarias para colocar el texto en cierta posición y con cierto estilo o animaciones; estas últimas obtenidas usando CSS y JS.\n",
    "\n",
    "La forma más simple de una página HTML incluye \n",
    "  Encabezado: El título que aparece en las pestañas, aquí también se exportan los estilos y las animaciones, así como propiedades del lenguaje.\n",
    "  Cuerpo: Es el contenido de la pagina, aquí se coloca todo lo que se quiera poner en la página web.\n",
    "\n",
    "Dentro de la página web hay etiquetas que resaltan como:\n",
    "  Titulo: Se asigna a los encabezados\n",
    "  a: es una etiqueta de enlace, usualmente los hipervinculos están ligados con la etiqueta a.\n",
    "  h1,h2,...: Al igual que el titulo son etiquetas que buscan resaltar algun texto\n",
    "  p: Son etiquetas de parrafo, en general todos los textos largos se busca separar haciendo uso de estas etiquetas.\n",
    "\n",
    "Sin embargo es importante señalar que la estructura que se menciona puede no ser respetada por algunos desarrolladores, ya que HTML te da la libertad de asignarle el nombre que más te guste al etiquetado, sin embargo es de buenas costumbres usar las etiquetas arriba señaladas."
   ]
  },
  {
   "cell_type": "code",
   "execution_count": 5,
   "metadata": {
    "colab": {
     "base_uri": "https://localhost:8080/",
     "height": 683
    },
    "colab_type": "code",
    "id": "_NZoPAKO_PuO",
    "outputId": "77c6b58b-0b78-4448-c163-7e948acf0b2c"
   },
   "outputs": [],
   "source": [
    "#Buscamos e imprimimos el contenido de cada una de las páginas\n",
    "#for indice in range(len(soup_list)):\n",
    " # print(indice)\n",
    "  #print(soup_list[indice]('p'))"
   ]
  },
  {
   "cell_type": "code",
   "execution_count": 6,
   "metadata": {
    "colab": {
     "base_uri": "https://localhost:8080/",
     "height": 34
    },
    "colab_type": "code",
    "id": "MxYOUkC1Dvbz",
    "outputId": "8a47a21b-d4d9-42ed-92cd-72fd12d2fffc"
   },
   "outputs": [
    {
     "name": "stdout",
     "output_type": "stream",
     "text": [
      "[<p>Además de dar cifras 'favorecedoras', el Subsecretario de Prevención y Promoción de la Salud presentó el modelo de acción comunitaria para seguir controlando la pandemia.</p>, <p>Esta <strong>140 sesión informativa</strong> para dar a conocer el avance de la <strong>pandemia por Covid-19 en nuestro país, </strong>se llevó a cabo en el <strong>Palacio de Gobierno de Chiapas, en Tuxtla Gutiérrez,</strong> con el <strong>gobernador </strong>de dicha entidad, <strong>Rutilio Escandón Cadenas, y su equipo de trabajo</strong>; se realizó en este estado, porque <strong>será uno de los primeros en los que se probará el 'Modelo de acción comunitaria'. </strong></p>, <p>Dicha <strong>iniciativa busca seguir controlando la epidemia, y realizar acciones favorables para proteger a la población vulnerable</strong>, como <strong>comunidades indígenas</strong>; al respecto, <strong>Hugo López-Gatell Ramírez</strong>, titular de la Subsecretaría de Prevención y Promoción de la Salud, <strong>detalló en qué consiste </strong>ésta. </p>, <p class=\"rtecenter\"><a href=\"https://www.tvnotas.com.mx/noticias-noticias-mexico/lopez-gattel-se-reactiva-semaforo-epidemiologico-en-mexico\"><span style=\"font-size:20px;\">López Gattel: Se reactiva semáforo epidemiológico en México</span></a></p>, <p><strong>Esto se busca con el Modelo de acción comunitaria:</strong></p>, <p><img alt=\"Covid-19 México Pandemia Conferencia de Salud Hugo López Gatell Chiapas 17 julio 2020\" class=\"img-int kalooga_21606\" height=\"395\" src=\"/sites/default/files/articulosImg/2020/07/17/cifras17julio-21.jpg\" title=\"IG @HLGatell | El porcentaje de personas con Covid-19 ha reducido hasta un 14%.\" width=\"800\"/></p>, <p>Respecto a las <strong>cifras nacionales,</strong> Gatell explicó: <em>\"<strong>62 por ciento de las personas que han tenido Covid-19 se han recuperado</strong> y se encuentran gozando de buenas condiciones de salud en general; una noticia positiva que hemos destacado es que <strong>tenemos una tendencia de reducción en el persontaje de personas con Covid en los últimos 14 días\".</strong></em></p>, <p><em>\"Actualmente es <strong>14% de reducción,</strong> el <strong>promedio mundial es de 22%.</strong> Se está <strong>reduciendo la velocidad de crecimiento en méxico</strong>, pero continúa; gracias a que en unas entidades federativas se va reduciendo, <strong>en el conjunto del país cada vez va más lenta la epidemia</strong></em>\", agregó.</p>, <p>En cuanto a la <strong>ocupación hospitalaria</strong> dijo: <em>\"Tenemos <strong>46% de las camas de ocupación general ocupadas,</strong> el resto desocupadas; <strong>Tabasco es donde se encuentra la mayor presión de ocupación</strong>. Para <strong>personas críticamente enfermas </strong>tenemos una importante <strong>reserva de 62% de camas disponibles</strong>, el estado de Nuevo León es donde sólo se tiene el 34%\".</em></p>, <p><img alt=\"Covid-19 México Pandemia Conferencia de Salud Hugo López Gatell Chiapas 17 julio 2020\" class=\"img-int kalooga_21606\" height=\"395\" src=\"/sites/default/files/articulosImg/2020/07/17/informaciongeneral-21.jpg\" title=\"IG @HLGatell | Estas son las cifras presentadas con corte al 17 de julio de 2020.\" width=\"800\"/></p>, <p>Al 17 de julio de 2020, hay <strong>331 mil 298 casos confirmados, 29 mil 363 activos y 85 mil 877 sospechosos </strong>de Covid-19. Se han registrado <strong>382 mil 3 negativos, 38 mil 310 defunciones confirmadas</strong> y <strong>208 mil 436 personas recuperadas. </strong></p>, <p>Además, habló que <strong>Chiapas es uno de los estados en los que la epidemia, afortunadamente se ha mantenido controlada</strong>, y aseguró que<strong> sus casos activos están a la baja desde hace cuatro semanas</strong>; han <strong>reducido hasta un 26%</strong>,<strong> </strong>y su tendencia es sostenida a la reducción. <strong>Sólo representan el 4% de la pandemia en México. </strong></p>, <p>Por último, López-Gatell reiteró que <strong>el semaforo epidemiológico de riesgo cobrará vigencia este lunes 20 de julio, en la semana 30</strong>, y durará por lo menos una semana.</p>, <p><img alt=\"Covid-19 México Pandemia Conferencia de Salud Hugo López Gatell Chiapas 17 julio 2020\" class=\"img-int kalooga_21606\" height=\"395\" src=\"/sites/default/files/articulosImg/2020/07/17/camasdisponibles-21.jpg\" title=\"IG @HLGatell | Esta es la ocupación hospitalaria hasta el momento.\" width=\"800\"/></p>, <p class=\"rtecenter\"><span style=\"font-size:20px;\"><a href=\"https://www.tvnotas.com.mx/noticias-noticias-mexico/secretaria-de-salud-confirma-medicamentos-recomendados-contra-covid-19\">Secretaría de Salud confirma medicamentos recomendados contra Covid-19</a></span></p>, <p class=\"rtecenter\"><span style=\"font-size:20px;\">________________________________________</span></p>, <p class=\"rtecenter\"><span style=\"font-size:20px;\"><span style=\"background-color:#ADD8E6;\">No olvides descargar nuestra app TVNotas:</span></span></p>, <p class=\"rtecenter\"><span style=\"font-size:20px;\"><span style=\"background-color:#ADD8E6;\">Usuarios Android Google Play</span><br/>\n",
      "<span style=\"background-color:#ADD8E6;\">Usuarios iOS App Store</span></span></p>, <p class=\"rtecenter\"><span style=\"font-size:20px;\"><span style=\"background-color:#ADD8E6;\">También puedes recibir nuestra edición impresa en tu casa, sólo comunícate al teléfono 8002288668 #QuédateEnCasa</span></span></p>, <p id=\"titulo\">\n",
      "SUSCRÍBETE\n",
      "</p>, <p id=\"subtitulo\">\n",
      "Y ACCESA DESDE TU MOVIL\n",
      "</p>, <p id=\"click\"> HAZ CLICK AQUÍ </p>, <p class=\"contentxt\">\n",
      "<a href=\"/contacto\" target=\"_blank\"><span class=\"cContacto\"><em class=\"icon-contact\"></em>Contacto</span></a>\n",
      "<a href=\"/aviso-de-privacidad\" target=\"_blank\"><span class=\"cAviso\">Aviso de Privacidad</span></a>\n",
      "<a href=\"https://www.notmusa.com.mx/tvnotas\" target=\"_blank\"><span class=\"cMediakit\">Media Kit</span></a>\n",
      "</p>]\n"
     ]
    }
   ],
   "source": [
    "txt = soup_list[1]('p')\n",
    "print(txt)"
   ]
  },
  {
   "cell_type": "code",
   "execution_count": 10,
   "metadata": {},
   "outputs": [],
   "source": [
    "s = []\n",
    "for parrafo in txt:\n",
    "    for palabra in parrafo:\n",
    "        for letra in palabra:\n",
    "            s.append(letra)"
   ]
  },
  {
   "cell_type": "code",
   "execution_count": 12,
   "metadata": {},
   "outputs": [],
   "source": [
    "#Tengo una lista con 792 elementos\n",
    "    s = []\n",
    "    for parrafo in txt:\n",
    "        for palabra in parrafo:\n",
    "            for letra in palabra:\n",
    "                s.append(letra)\n",
    "    st = \"\"\n",
    "    i = 0\n",
    "    j = 0\n",
    "    #Camino por cada elemento de mi arreglo\n",
    "    while i != len(s):\n",
    "        #Compruebo que solo haya un elemento\n",
    "        st += str(s[i])\n",
    "        i+=1\n",
    "    aux = st\n",
    "    while aux.find('<') != -1:\n",
    "        len(aux)\n",
    "        ini = aux.find('<')\n",
    "        fin = aux.find('>')\n",
    "        print(ini,fin)\n",
    "        print(aux[ini:fin+1])\n",
    "        aux = aux[:ini] + aux[fin+1:]"
   ]
  },
  {
   "cell_type": "code",
   "execution_count": 55,
   "metadata": {},
   "outputs": [
    {
     "name": "stdout",
     "output_type": "stream",
     "text": [
      "841 870\n",
      "<span style=\"font-size:20px;\">\n",
      "900 906\n",
      "</span>\n",
      "1001 1008\n",
      "<strong>\n",
      "1072 1080\n",
      "</strong>\n",
      "1188 1195\n",
      "<strong>\n",
      "1286 1294\n",
      "</strong>\n",
      "1302 1309\n",
      "<strong>\n",
      "1319 1327\n",
      "</strong>\n",
      "1323 1330\n",
      "<strong>\n",
      "1350 1358\n",
      "</strong>\n",
      "1359 1366\n",
      "<strong>\n",
      "1407 1415\n",
      "</strong>\n",
      "1486 1493\n",
      "<strong>\n",
      "1543 1551\n",
      "</strong>\n",
      "1606 1613\n",
      "<strong>\n",
      "1653 1661\n",
      "</strong>\n",
      "1676 1683\n",
      "<strong>\n",
      "1735 1743\n",
      "</strong>\n",
      "1742 1749\n",
      "<strong>\n",
      "1773 1781\n",
      "</strong>\n",
      "1796 1803\n",
      "<strong>\n",
      "1831 1839\n",
      "</strong>\n",
      "2590 2722\n",
      "<a href=\"https://www.tvnotas.com.mx/noticias-noticias-mexico/secretaria-de-salud-confirma-medicamentos-recomendados-contra-covid-19\">\n",
      "2660 2663\n",
      "</a>\n",
      "2700 2739\n",
      "<span style=\"background-color:#ADD8E6;\">\n",
      "2741 2747\n",
      "</span>\n",
      "2741 2780\n",
      "<span style=\"background-color:#ADD8E6;\">\n",
      "2769 2775\n",
      "</span>\n",
      "2769 2773\n",
      "<br/>\n",
      "2770 2809\n",
      "<span style=\"background-color:#ADD8E6;\">\n",
      "2792 2798\n",
      "</span>\n",
      "2792 2831\n",
      "<span style=\"background-color:#ADD8E6;\">\n",
      "2904 2910\n",
      "</span>\n",
      "2958 2981\n",
      "<span class=\"cContacto\">\n",
      "2958 2982\n",
      "<em class=\"icon-contact\">\n",
      "2958 2962\n",
      "</em>\n",
      "2966 2972\n",
      "</span>\n",
      "2967 2987\n",
      "<span class=\"cAviso\">\n",
      "2986 2992\n",
      "</span>\n",
      "2987 3010\n",
      "<span class=\"cMediakit\">\n",
      "2996 3002\n",
      "</span>\n"
     ]
    }
   ],
   "source": [
    "aux = st\n",
    "while aux.find('<') != -1:\n",
    "    len(aux)\n",
    "    ini = aux.find('<')\n",
    "    fin = aux.find('>')\n",
    "    print(ini,fin)\n",
    "    print(aux[ini:fin+1])\n",
    "    aux = aux[:ini] + aux[fin+1:]\n"
   ]
  },
  {
   "cell_type": "code",
   "execution_count": 56,
   "metadata": {},
   "outputs": [
    {
     "name": "stdout",
     "output_type": "stream",
     "text": [
      "Además de dar cifras 'favorecedoras', el Subsecretario de Prevención y Promoción de la Salud presentó el modelo de acción comunitaria para seguir controlando la pandemia.Esta 140 sesión informativa para dar a conocer el avance de la pandemia por Covid-19 en nuestro país, se llevó a cabo en el Palacio de Gobierno de Chiapas, en Tuxtla Gutiérrez, con el gobernador de dicha entidad, Rutilio Escandón Cadenas, y su equipo de trabajo; se realizó en este estado, porque será uno de los primeros en los que se probará el 'Modelo de acción comunitaria'. Dicha iniciativa busca seguir controlando la epidemia, y realizar acciones favorables para proteger a la población vulnerable, como comunidades indígenas; al respecto, Hugo López-Gatell Ramírez, titular de la Subsecretaría de Prevención y Promoción de la Salud, detalló en qué consiste ésta. López Gattel: Se reactiva semáforo epidemiológico en MéxicoEsto se busca con el Modelo de acción comunitaria:Respecto a las cifras nacionales, Gatell explicó: \"62 por ciento de las personas que han tenido Covid-19 se han recuperado y se encuentran gozando de buenas condiciones de salud en general; una noticia positiva que hemos destacado es que tenemos una tendencia de reducción en el persontaje de personas con Covid en los últimos 14 días\".\"Actualmente es 14% de reducción, el promedio mundial es de 22%. Se está reduciendo la velocidad de crecimiento en méxico, pero continúa; gracias a que en unas entidades federativas se va reduciendo, en el conjunto del país cada vez va más lenta la epidemia\", agregó.En cuanto a la ocupación hospitalaria dijo: \"Tenemos 46% de las camas de ocupación general ocupadas, el resto desocupadas; Tabasco es donde se encuentra la mayor presión de ocupación. Para personas críticamente enfermas tenemos una importante reserva de 62% de camas disponibles, el estado de Nuevo León es donde sólo se tiene el 34%\".Al 17 de julio de 2020, hay 331 mil 298 casos confirmados, 29 mil 363 activos y 85 mil 877 sospechosos de Covid-19. Se han registrado 382 mil 3 negativos, 38 mil 310 defunciones confirmadas y 208 mil 436 personas recuperadas. Además, habló que Chiapas es uno de los estados en los que la epidemia, afortunadamente se ha mantenido controlada, y aseguró que sus casos activos están a la baja desde hace cuatro semanas; han reducido hasta un 26%, y su tendencia es sostenida a la reducción. Sólo representan el 4% de la pandemia en México. Por último, López-Gatell reiteró que el semaforo epidemiológico de riesgo cobrará vigencia este lunes 20 de julio, en la semana 30, y durará por lo menos una semana.Secretaría de Salud confirma medicamentos recomendados contra Covid-19________________________________________No olvides descargar nuestra app TVNotas:Usuarios Android Google Play\n",
      "Usuarios iOS App StoreTambién puedes recibir nuestra edición impresa en tu casa, sólo comunícate al teléfono 8002288668 #QuédateEnCasa\n",
      "SUSCRÍBETE\n",
      "\n",
      "Y ACCESA DESDE TU MOVIL\n",
      " HAZ CLICK AQUÍ \n",
      "Contacto\n",
      "Aviso de Privacidad\n",
      "Media Kit\n",
      "\n"
     ]
    }
   ],
   "source": [
    "print(aux)\n"
   ]
  },
  {
   "cell_type": "code",
   "execution_count": 44,
   "metadata": {},
   "outputs": [
    {
     "data": {
      "text/plain": [
       "1008"
      ]
     },
     "execution_count": 44,
     "metadata": {},
     "output_type": "execute_result"
    }
   ],
   "source": [
    "aux.find(\">\")"
   ]
  },
  {
   "cell_type": "code",
   "execution_count": 97,
   "metadata": {},
   "outputs": [],
   "source": [
    "def Soup2Dic(soup:object) -> object:\n",
    "    \"\"\"\n",
    "        Regresa un diccionario que contiene los principales elementos de la nota.\n",
    "        \n",
    "        La función espera un objeto BeautifulSoup en bruto al cual se le aplicacn una serie de operaciones para crear un diccionario con las siguientes llaves\n",
    "        Titulo: Será el título de la nota\n",
    "        URL: Será la url de la nota\n",
    "        Contenido: Será el contenido de la nota\n",
    "        Periodico: Será el nombre del periodico origen de la nota\n",
    "        \n",
    "        Entradas\n",
    "        --------\n",
    "        soup: Object\n",
    "            Es un objeto BeautifulSoup\n",
    "        \n",
    "        Salidas\n",
    "        -------\n",
    "        dic: Object\n",
    "            Diccionario con el contenido de la página.\n",
    "        \n",
    "    \"\"\"\n",
    "    dic = {}\n",
    "    \n",
    "    #####Titulo\n",
    "    titulo = str(soup('title')[0])\n",
    "    #Eliminación de etiquetas\n",
    "    while titulo.find(\"<\") != -1:\n",
    "        ini = titulo.find('<')\n",
    "        fin = titulo.find('>')\n",
    "        titulo = titulo[:ini] + titulo[fin+1:]\n",
    "    i = 0\n",
    "    aux = \"\"\n",
    "    for letra in titulo:\n",
    "        if letra == \"|\" or letra == \":\" or letra == \"-\" or letra == \"–\":\n",
    "            break\n",
    "        else:\n",
    "            aux += letra\n",
    "    dic['title'] = aux\n",
    "    ####Contenido\n",
    "    txt = soup('p')\n",
    "    s = []\n",
    "    for parrafo in txt:\n",
    "        for palabra in parrafo:\n",
    "            for letra in palabra:\n",
    "                s.append(letra)\n",
    "    st = \"\"\n",
    "    i = 0\n",
    "    j = 0\n",
    "    #Camino por cada elemento de mi arreglo\n",
    "    while i != len(s):\n",
    "        #Compruebo que solo haya un elemento\n",
    "        st += str(s[i])\n",
    "        i+=1\n",
    "    aux = st\n",
    "    while aux.find('<') != -1:\n",
    "        len(aux)\n",
    "        ini = aux.find('<')\n",
    "        fin = aux.find('>')\n",
    "        aux = aux[:ini] + aux[fin+1:]\n",
    "    dic['data'] = aux\n",
    "    return(dic)\n",
    "    \n",
    "    "
   ]
  },
  {
   "cell_type": "code",
   "execution_count": 99,
   "metadata": {},
   "outputs": [
    {
     "name": "stdout",
     "output_type": "stream",
     "text": [
      "{'title': 'López', 'data': 'Además de dar cifras \\'favorecedoras\\', el Subsecretario\\xa0de Prevención y Promoción de la Salud presentó el modelo de acción comunitaria para seguir controlando la pandemia.Esta 140 sesión informativa para dar a conocer el avance de la pandemia por Covid-19 en nuestro país, se llevó a cabo en el Palacio de Gobierno de Chiapas, en Tuxtla Gutiérrez, con el gobernador de dicha entidad, Rutilio Escandón Cadenas, y su equipo de trabajo; se realizó en este estado, porque será uno de los primeros en los que se probará el \\'Modelo de acción comunitaria\\'.\\xa0Dicha iniciativa busca seguir controlando la epidemia, y realizar acciones favorables para proteger a la población vulnerable, como comunidades indígenas; al respecto, Hugo López-Gatell Ramírez, titular de la Subsecretaría de Prevención y Promoción de la Salud, detalló en qué consiste ésta.\\xa0López Gattel: Se reactiva semáforo epidemiológico en MéxicoEsto se busca con el Modelo de acción comunitaria:Respecto a las cifras nacionales, Gatell explicó: \"62 por ciento de las personas que han tenido Covid-19 se han recuperado y se encuentran gozando de buenas condiciones de salud en general; una noticia positiva que hemos destacado es que tenemos una tendencia de reducción en el persontaje de personas con Covid en los últimos 14 días\".\"Actualmente es 14% de reducción, el promedio mundial es de 22%. Se está reduciendo la velocidad de crecimiento en méxico, pero continúa; gracias a que en unas entidades federativas se va reduciendo, en el conjunto del país cada vez va más lenta la epidemia\", agregó.En cuanto a la ocupación hospitalaria dijo: \"Tenemos 46% de las camas de ocupación general ocupadas, el resto desocupadas; Tabasco es donde se encuentra la mayor presión de ocupación. Para personas críticamente enfermas tenemos una importante reserva de 62% de camas disponibles, el estado de Nuevo León es donde sólo se tiene el 34%\".Al 17 de julio de 2020, hay 331 mil 298 casos confirmados, 29 mil 363 activos y 85 mil 877 sospechosos de Covid-19. Se han registrado 382 mil 3 negativos, 38 mil 310 defunciones confirmadas y 208 mil 436 personas recuperadas.\\xa0Además, habló que Chiapas es uno de los estados en los que la epidemia, afortunadamente se ha mantenido controlada, y aseguró que sus casos activos están a la baja desde hace cuatro semanas; han reducido hasta un 26%, y su tendencia es sostenida a la reducción. Sólo representan el 4% de la pandemia en México.\\xa0Por último, López-Gatell reiteró que el semaforo epidemiológico de riesgo cobrará vigencia este lunes 20 de julio, en la semana 30, y durará por lo menos una semana.Secretaría de Salud confirma medicamentos recomendados contra Covid-19________________________________________No olvides descargar nuestra app TVNotas:Usuarios Android Google Play\\nUsuarios iOS App StoreTambién puedes recibir nuestra edición impresa en tu casa, sólo comunícate al teléfono 8002288668 #QuédateEnCasa\\nSUSCRÍBETE\\n\\nY ACCESA DESDE TU MOVIL\\n HAZ CLICK AQUÍ \\nContacto\\nAviso de Privacidad\\nMedia Kit\\n'}\n"
     ]
    }
   ],
   "source": [
    "print(Soup2Dic(soup_list[1]))"
   ]
  },
  {
   "cell_type": "code",
   "execution_count": 91,
   "metadata": {},
   "outputs": [
    {
     "name": "stdout",
     "output_type": "stream",
     "text": [
      "Subsecretario de Salud de México ahora sí recomienda uso de cubrebocas en espacios públicos \n"
     ]
    }
   ],
   "source": [
    "    \n",
    "\n"
   ]
  },
  {
   "cell_type": "code",
   "execution_count": 75,
   "metadata": {},
   "outputs": [
    {
     "data": {
      "text/plain": [
       "97"
      ]
     },
     "execution_count": 75,
     "metadata": {},
     "output_type": "execute_result"
    }
   ],
   "source": [
    "len(titulo)"
   ]
  },
  {
   "cell_type": "code",
   "execution_count": null,
   "metadata": {},
   "outputs": [],
   "source": []
  }
 ],
 "metadata": {
  "colab": {
   "name": "WebScrapping.ipynb",
   "provenance": []
  },
  "kernelspec": {
   "display_name": "Python 3",
   "language": "python",
   "name": "python3"
  },
  "language_info": {
   "codemirror_mode": {
    "name": "ipython",
    "version": 3
   },
   "file_extension": ".py",
   "mimetype": "text/x-python",
   "name": "python",
   "nbconvert_exporter": "python",
   "pygments_lexer": "ipython3",
   "version": "3.7.6"
  }
 },
 "nbformat": 4,
 "nbformat_minor": 4
}
